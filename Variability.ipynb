{
  "cells": [
    {
      "cell_type": "markdown",
      "metadata": {
        "id": "view-in-github",
        "colab_type": "text"
      },
      "source": [
        "<a href=\"https://colab.research.google.com/github/vectrlab/apex-stats-modules/blob/main/Variability.ipynb\" target=\"_parent\"><img src=\"https://colab.research.google.com/assets/colab-badge.svg\" alt=\"Open In Colab\"/></a>"
      ]
    },
    {
      "cell_type": "markdown",
      "metadata": {
        "id": "qzN20j7kdyqy"
      },
      "source": [
        "# APEX STATS Variability\n",
        "Module by David Schuster with code by Andy Qui Le\n",
        "\n",
        "Licensed under CC BY-NC-SA\n",
        "\n",
        "Release 1.0"
      ]
    },
    {
      "cell_type": "markdown",
      "metadata": {
        "id": "XG8yLKv4_cTv"
      },
      "source": [
        "<img src=\"https://www.publicdomainpictures.net/pictures/260000/velka/soccer-football-player-american.jpg\" width=\"400\"/>\n",
        "\n",
        "Image credit: [\"Soccer, Football Player, American\"](https://www.publicdomainpictures.net/en/view-image.php?image=257368&picture=soccer-football-player-american) in the public domain\n",
        "\n",
        "## I. Start Here\n",
        "Welcome back! This module will look at how we summarize the diversity we observe in distributions, which are called measures of variability or measures of spread.\n",
        "\n",
        "Along the way, we will show you how you can use Python to do statistics. You can work right in this notebook.\n",
        "\n",
        "Arrows (<font color=\"red\">➡</font>) indicate something for you to do as you work through this notebook. The first thing you should do is to save a copy.\n",
        "\n",
        "###<font color=\"red\">➡</font> Save a Copy###\n",
        "This notebook is \"view only,\" meaning that you can view it, but you cannot save any changes. To create your own editable copy, look towards the top of the notebook and click on `Copy to Drive`. This will cause a new tab to open with your own personal copy of the notebook. \n",
        "\n",
        "If you want to refer back to your copy in the future, you can find it in Google Drive in a folder called `Colab Notebooks`. Specifically, your copy of this notebook will be called: \"Copy of APEX STATS Module\"\n",
        "\n",
        "Once finished, share your completed notebook with your intructor using the *Share* button at the upper right.\n",
        "\n",
        "###<font color=\"red\">➡</font> No, Really, Save a Copy###\n",
        "\n",
        "Hi again. We are double-checking that you saved a copy of this notebook before you continue. We want your work to be safely saved!\n",
        "\n",
        "---"
      ]
    },
    {
      "cell_type": "markdown",
      "metadata": {
        "id": "fUNW3PsZ-3fz"
      },
      "source": [
        "## II. Background\n",
        "\n",
        "The following background is recommended before starting this module:\n",
        "\n",
        "1. **Descriptive stats in your course.** This module will work best if you have already covered distributions, histograms, and central tendency, and variability in your course. You may want to review your notes or textbook before starting this module.\n",
        "\n",
        "2. **Welcome to Colab** If you have not worked through the <a href=\"https://colab.research.google.com/drive/1zTk_n6BL8Tvdhaufq_FYNXK0dbvGKnxX?usp=sharing\">Welcome to Colab notebook yet</a>, you should do that first.\n",
        "\n",
        "### Learning Outcomes\n",
        "\n",
        "These exercises map onto several learning objective(s) for the C-ID descriptor for [Introduction to Statistics](https://c-id.net/descriptors/final/show/365). Upon successful completion of the course, you will be able to:  \n",
        "\n",
        "* LO 3: Calculate measures of central tendency and variation for a given data set\n",
        "* LO 5: Summarize and describe discrete distributions \n",
        "\n",
        "Next, read through the activity and follow the steps indicated by the arrows.\n"
      ]
    },
    {
      "cell_type": "markdown",
      "metadata": {
        "id": "MlhZ2oy-dyq6"
      },
      "source": [
        "## III. Activity\n",
        "\n",
        "The next section of this module involves a series of hands-on activities that use data on real soccer players in the International Federation of Association Football (FIFA). The data are from FIFA 19, a soccer videogame.\n",
        "\n"
      ]
    },
    {
      "cell_type": "markdown",
      "source": [
        "### 1. Get data\n",
        "\n",
        "Before you can begin these exercises, you need to run the code cell below, which will import the FIFA file and create a dataframe (i.e., spreadsheet) named `data`. Once you run the cell, you will see a preview of the dataframe. Take note that it contains several columns (these will be descibed in the exercise)."
      ],
      "metadata": {
        "id": "qxZPClqpfJsV"
      }
    },
    {
      "cell_type": "markdown",
      "source": [
        "###<font color=\"red\">➡</font> Run the cell###\n",
        "\n",
        "To run the cell, click on it, and then you can either simultaneously hit `Shift` + `Enter`, or you can click the play button to the left of the cell.\n",
        "\n",
        "After you click it, you should see the text \"The data were loaded\" and a preview of the data. If you see that, continue to the next section. If you come back to this notebook later, you will need to rerun this cell to load the data again.\n",
        "\n",
        "If you see the text \"There was a problem loading the data,\" then the most likely explanation is a bug that is our fault. Let your instructor know the notebook is not working properly."
      ],
      "metadata": {
        "id": "FnEjbqF7wjfp"
      }
    },
    {
      "cell_type": "code",
      "execution_count": null,
      "metadata": {
        "id": "vAiUnZXYdyq6"
      },
      "outputs": [],
      "source": [
        "# Setup Example Data\n",
        "\n",
        "# import library\n",
        "import pandas as pd \n",
        "# read the datafile\n",
        "data = pd.read_csv(\"https://raw.githubusercontent.com/vectrlab/apex-stats-datasets/main/fifa19/example.csv\") \n",
        "# handle data loading error\n",
        "try:\n",
        "    data\n",
        "    print(\"The data were loaded\")\n",
        "except NameError:\n",
        "    print(\"There was a problem loading the data.\")"
      ]
    },
    {
      "cell_type": "markdown",
      "metadata": {
        "id": "J3hGutSndGF4"
      },
      "source": [
        "###<font color=\"red\">➡</font> Run the cell###\n",
        "\n",
        "Next, we will generate a quick preview of the data you just loaded. Run the cell that follows. To run the cell, click on it, and then you can either simultaneously hit `Shift` + `Enter`, or you can click the play button to the left of the cell.\n",
        "\n",
        "After you run it, you should see a table with rows and columns. The rows are numbered starting with zero, and the columns are labeled y, x, x1, and so on. \n"
      ]
    },
    {
      "cell_type": "code",
      "execution_count": null,
      "metadata": {
        "id": "BEQFJwkddK_W"
      },
      "outputs": [],
      "source": [
        "data"
      ]
    },
    {
      "cell_type": "markdown",
      "metadata": {
        "id": "1bWJbI6sdyq8"
      },
      "source": [
        "### 2. Explore the Data\n",
        "\n",
        "Now that you have seen a preview, it is time to explore the dataframe! We will be using the following format to refer to each variable: \n",
        "`name of dataframe[\"column name\"]` \n",
        "\n",
        "Because our FIFA dataframe is named `data`, we will use notation like: `data[\"x7\"]`\n",
        "\n",
        "- `data[\"y\"]`: Wage in thousands of Euros\n",
        "- `data[\"x\"]`: Age in years\n",
        "- `data[\"x1\"]`: Heading Accuracy (0-100, with higher numbers indicating more accuracy) \n",
        "- `data[\"x2\"]`: Dribbling rating (0-100, with higher numbers indicating more accuracy)\n",
        "- `data[\"x3\"]`: Agility rating (0-100, with higher numbers indicating more accuracy)\n",
        "- `data[\"x4\"]`: Shot Power rating (0-100, with higher numbers indicating more accuracy)\n",
        "- `data[\"x5\"]`: Jersey Number\n",
        "- `data[\"x6\"]`: Position (abbreviated)\n",
        "- `data[\"x7\"]`: Name\n",
        "- `data[\"x8\"]`: Club\n",
        "\n",
        "It is very typical to have more variables in your dataframe than you plan to explore in a given sitting. In this module, we will focus on players' ages, so the only variable we will need for now is `x`. We can ignore the other variables for the moment.\n",
        "\n",
        "The collection of all the values in variable `x` forms our **population distribution**, or collection of values from all members of our population of interest. Here, our population is players who appeared in FIFA 19. "
      ]
    },
    {
      "cell_type": "markdown",
      "source": [
        "### <font color=\"red\">➡</font> Paste the code and run the cell###\n",
        "To focus specifically on values in `data[\"x\"]`, copy and paste `data[\"x\"]` into the code cell below. **Important!** Make sure that you use lowercase x and not uppercase X, and that you include the brackets and quote marks, as well.\n",
        "\n",
        "The result will show you the first few players' ages (rows 0-4) as well as the last few players' ages (18202 - 18206). If you're curious, the first value displayed is for Lionel Messi, who was 31 in 2019.\n"
      ],
      "metadata": {
        "id": "fKs5T1CtwtO_"
      }
    },
    {
      "cell_type": "code",
      "execution_count": null,
      "metadata": {
        "id": "qv2DSj8hdyq9"
      },
      "outputs": [],
      "source": [
        "\n"
      ]
    },
    {
      "cell_type": "markdown",
      "metadata": {
        "id": "W1qHdWvudyrN"
      },
      "source": [
        "### 3. Variability\n",
        "\n",
        "So far, you have visualized (using the histogram) the distribution and computed measures of central tendency. Each measure of central tendency summarizes the distribution in a single numnber.\n",
        "\n",
        "The last piece of descriptive statistics is measuring variability, or differences among the scores.\n",
        "\n",
        "Think of the difference in ages on a youth sports team, which tend to require players to be within a couple years of each other. That team will have low diversity of ages, which we could label low variability. Compare this to our FIFA population, which has a lot more age diversity, or variability. In this section, we will learn to get a bit more precise by computing quantitative measures of variability. As with central tendency, there are several ways to do it.\n",
        "\n"
      ]
    },
    {
      "cell_type": "markdown",
      "source": [
        "### 4. Minimum and maximum values\n",
        "\n",
        "The highest score is the maximum value. The lowest score is the minimum value. Python makes it easy to find these without having to scroll through a list of numbers. "
      ],
      "metadata": {
        "id": "KYfrJRW7gaqQ"
      }
    },
    {
      "cell_type": "markdown",
      "source": [
        "###<font color=\"red\">➡</font> Run the cell###\n",
        "\n",
        "Run the cell below to determine the maximum value, which is going to be the age of the oldest FIFA 19 player. You should get a single number.\n",
        "\n",
        "To run the cell, click on it, and then you can either simultaneously hit `Shift` + `Enter`, or you can click the play button to the left of the cell."
      ],
      "metadata": {
        "id": "CfknRR7Yg2IH"
      }
    },
    {
      "cell_type": "code",
      "source": [
        "# give the maximum value\n",
        "data[\"x\"].max() "
      ],
      "metadata": {
        "id": "EzCZ8EwqgrTw"
      },
      "execution_count": null,
      "outputs": []
    },
    {
      "cell_type": "markdown",
      "source": [
        "###<font color=\"red\">➡</font> Write code and run the cell###\n",
        "\n",
        "Can you copy and paste the code from the last cell and modify it to find the minimum value?\n",
        "\n",
        "Copy the prior code and paste it below. Then, change `max` to `min`.\n",
        "\n",
        "To run the cell, click on it, and then you can either simultaneously hit `Shift` + `Enter`, or you can click the play button to the left of the cell."
      ],
      "metadata": {
        "id": "3M2rvQuJhAlc"
      }
    },
    {
      "cell_type": "code",
      "source": [
        "# give the minimum value\n"
      ],
      "metadata": {
        "id": "NHqrP66Ag_QS"
      },
      "execution_count": null,
      "outputs": []
    },
    {
      "cell_type": "markdown",
      "metadata": {
        "id": "yEL8iNabdyrN"
      },
      "source": [
        "### 5. Range\n",
        "\n",
        "Range is the difference between the highest and lowest score. A larger range suggests more variability, and a smaller range suggests less.\n",
        "\n",
        "Range is the width of the histogram.\n",
        "\n",
        "Range is measured in the same units as the measure."
      ]
    },
    {
      "cell_type": "markdown",
      "source": [
        "###<font color=\"red\">➡</font> Write code and run the cell###\n",
        "\n",
        "Write one line of code below to calculate the range. To do this, you will need to put three pieces together:\n",
        "\n",
        "*   `data[\"x\"].max()` will give the maximum value\n",
        "*   `data[\"x\"].min()` will give the minimum value\n",
        "* `-` can be used to subtract two values\n",
        "\n",
        "Write code to subtract the minimum value from the maximum value. This is the range. You should get a single number.\n",
        "\n",
        "To run the cell, click on it, and then you can either simultaneously hit `Shift` + `Enter`, or you can click the play button to the left of the cell."
      ],
      "metadata": {
        "id": "lGZ-g3m14Ojn"
      }
    },
    {
      "cell_type": "code",
      "execution_count": null,
      "metadata": {
        "id": "FV3oR-bNdyrN"
      },
      "outputs": [],
      "source": [
        "# Find the range\n",
        "\n"
      ]
    },
    {
      "cell_type": "markdown",
      "metadata": {
        "id": "ND52RqY-dyrO"
      },
      "source": [
        "### 6. Interquartile Range (IQR)\n",
        "\n",
        "Interquartile range (IQR) is a way of measuring width near the middle of a distribution. The IQR is the difference between the first (Q1) and third (Q3) **quartiles**, cutoff points that divide the distribution into four groups of equal frequency. The second quartile (Q2) is the median.\n",
        "\n",
        "It can be helpful to imagine the process of finding the median: listing all the scores in the distribution in order, and then finding the value in the middle. If we do this, we have two groups with equal frequency. Imagine doing the same process again on just the lower half of the distribution. It is like slicing a cake into two equal-sized pieces, and then slicing one of those pieces into two more pieces. The first quartile, Q1, is exactly that. It divides the values below the median into two groups. Therefore, 25% of the scores in the distribution will be below Q1, and 75% of scores in the distribution will be above Q1. We can do the same thing with values above the median. That would create Q3, with 75% of the scores in the distribution below Q3 and 25% of scores above Q3.\n",
        "\n",
        "The proportion of scores below a score has another name, the **percentile**. Q1 is the same thing as the 25th percentile (because 25% of scores are at or below Q1). Q2 is the 50th percentile, and Q3 is the 75th percentile.\n",
        "\n",
        "In the code below, Q1 is calculated and saved in a variable called Q1. Write another line of code to calculate Q3 (hint: modify the percentile in the code!). Then, subtract Q3 - Q1 to find the IQR."
      ]
    },
    {
      "cell_type": "markdown",
      "source": [
        "###<font color=\"red\">➡</font> Fix the code and run the cell###\n",
        "\n",
        "We will use a few lines of code to calculate the IQR. Everything is filled in for you, except the formula for q3 is missing.\n",
        "\n",
        "The code for q3 is exactly the same as the formula for q1, except: (1) It is not the 25% that you need for q3, it is the 75%, and (2) If you copy and paste, change the pasted q1 to q3.\n",
        "\n",
        "To run the cell, click on it, and then you can either simultaneously hit `Shift` + `Enter`, or you can click the play button to the left of the cell."
      ],
      "metadata": {
        "id": "H8Nm5KM95Atp"
      }
    },
    {
      "cell_type": "code",
      "execution_count": null,
      "metadata": {
        "id": "YHy20y8ZdyrO"
      },
      "outputs": [],
      "source": [
        "# Quartiles\n",
        "q1 = data.describe()[\"x\"][\"25%\"] # get Q1\n",
        "\n",
        "# Write one line of code here to calculate q3\n",
        "# q3 = \n",
        "\n",
        "# Display the IQR\n",
        "q3 - q1 "
      ]
    },
    {
      "cell_type": "markdown",
      "source": [
        "### <font color=\"red\">➡</font> Answer the following question ###\n",
        "\n",
        "Text like this is also in a cell. Double click right here to edit this text cell. Then, type your answers to each question below the question. When finished, press `Shift` + `Enter` and you will see your answers in the notebook.\n",
        "\n",
        "-Q1. Based on the range, would you say FIFA 19 players are diverse in age? How do you know?\n",
        "\n",
        "-Q2. Why is the IQR smaller than the range?\n"
      ],
      "metadata": {
        "id": "GniPFwKKCS2Y"
      }
    },
    {
      "cell_type": "markdown",
      "metadata": {
        "id": "WIzNpPwudyrP"
      },
      "source": [
        "### 7. Box Plots\n",
        "\n",
        "**Box plots** are a handy visualization that bring together the median and the quartiles. Together, the quartiles (Q1, Q2, Q3), the minimum value, and the maximum value are called the **five number summary**."
      ]
    },
    {
      "cell_type": "markdown",
      "source": [
        "###<font color=\"red\">➡</font> Run the cell###\n",
        "\n",
        "Copying and pasting is a very useful technique when using Python for statistics. In this next cell, we copied and pasted our box plot code from a prior module. \n",
        "\n",
        "Run the code in the cell below. You can copy and paste this code anywhere you need a box plot. You would only need to change the \"x\" value if you wanted to work with a different variable. For now, just run this code as written to generate a box plot.\n",
        "\n",
        "To run the cell, click on it, and then you can either simultaneously hit `Shift` + `Enter`, or you can click the play button to the left of the cell."
      ],
      "metadata": {
        "id": "xfnc9IF25jYD"
      }
    },
    {
      "cell_type": "code",
      "execution_count": null,
      "metadata": {
        "id": "d_JtSFj2dyrQ"
      },
      "outputs": [],
      "source": [
        "# Box Plot\n",
        "import pandas as pd\n",
        "import seaborn as sns\n",
        "import matplotlib.pyplot as plt\n",
        "\n",
        "plt.figure(figsize=(15,8))\n",
        "sns.boxplot(x=\"x\", data=data)"
      ]
    },
    {
      "cell_type": "markdown",
      "source": [
        "### <font color=\"red\">➡</font> Answer the following questions ###\n",
        "\n",
        "Text like this is also in a cell. Double click right here to edit this text cell. Then, type your answers to each question below the question. When finished, press `Shift` + `Enter` and you will see your answers in the notebook.\n",
        "\n",
        "-Q3. Find the minimum and maximum values using the scale on the x-axis. How are these values represented in the box plot?\n",
        "\n",
        "-Q4. The line through the middle of the box is the median (Q2). What value does the box plot suggest is the median?\n",
        "\n"
      ],
      "metadata": {
        "id": "G5vB5SXwCl9a"
      }
    },
    {
      "cell_type": "markdown",
      "metadata": {
        "id": "kLgKBajIdyrQ"
      },
      "source": [
        "\n",
        "### 8. Sum of squares\n",
        "\n",
        "Measuring how spread out the data are in terms of width, whether it is the whole histogram (range) or the middle part of the histogram (the IQR) is one helpful way to describe variability. In the next few sections, we introduce a complementary way to talk about variability: we can measure how spread out scores tend to be from each other. These additional measures of variability let us distinguish between a distribution where all the values are clustered in the middle and one where the values are spread out from the middle, even when they may have the same range.\n",
        "\n",
        "The first of these measures is the **sum of squares**, which has more steps than it sounds. A better name would be the *sum of squared deviations from the mean*. Sum of squares involves the following process:\n",
        "\n",
        "1. Find the mean of the distribution.\n",
        "\n",
        "3. Subtract the mean minus each value, generating a list of **mean deviations**.\n",
        "\n",
        "4. Square all of the mean deviations. That is the sum of squares.\n",
        "\n",
        "\n"
      ]
    },
    {
      "cell_type": "markdown",
      "source": [
        "###<font color=\"red\">➡</font> Run the cell###\n",
        "\n",
        "First, we will generate a list of mean deviations. Because we need to determine mean deviation for every score, this process will create a new distribution. We will create a new variable, `data[\"z\"]`, to hold the mean deviation scores.\n",
        "\n",
        "To run the cell, click on it, and then you can either simultaneously hit `Shift` + `Enter`, or you can click the play button to the left of the cell."
      ],
      "metadata": {
        "id": "5OHyODbr5_jT"
      }
    },
    {
      "cell_type": "code",
      "execution_count": null,
      "metadata": {
        "id": "BdgDyrNQdyrR"
      },
      "outputs": [],
      "source": [
        "# Mean deviation\n",
        "import numpy as np # import library\n",
        "\n",
        "# Make a new column and assign mean deviation values\n",
        "data[\"z\"] = np.mean(data[\"x\"]) - data[\"x\"] \n",
        "# Display the data\n",
        "data"
      ]
    },
    {
      "cell_type": "markdown",
      "metadata": {
        "id": "7Fm4FZ3CdyrR"
      },
      "source": [
        "Scroll to the right to see our new variable, `data[\"z\"]`.\n",
        "\n",
        "Mean deviation, or distance from the mean, gives us a way to measure the tendency for a score to be away from the mean. To summarize this property for all of the scores, we will try adding them together to get the **sum of mean deviations**. What happens when we sum all of the mean deviation scores?"
      ]
    },
    {
      "cell_type": "markdown",
      "source": [
        "###<font color=\"red\">➡</font> Run the cell###\n",
        "\n",
        "Next, we will find the sum of our mean deviations, rounded to five decimal places. *You can ignore any negative sign*. You may get a surprising value!\n",
        "\n",
        "To run the cell, click on it, and then you can either simultaneously hit `Shift` + `Enter`, or you can click the play button to the left of the cell."
      ],
      "metadata": {
        "id": "X5TFIcks6GiT"
      }
    },
    {
      "cell_type": "code",
      "execution_count": null,
      "metadata": {
        "id": "qzPKAd94dyrR"
      },
      "outputs": [],
      "source": [
        "# Sum of mean deviations\n",
        "# We will round to five decimal places \n",
        "# to avoid misleading small computational error\n",
        "round(data[\"z\"].sum(), 5) "
      ]
    },
    {
      "cell_type": "markdown",
      "metadata": {
        "id": "jJ9e6PstdyrS"
      },
      "source": [
        "### <font color=\"red\">➡</font> Answer the following question ###\n",
        "\n",
        "Text like this is also in a cell. Double click right here to edit this text cell. Then, type your answers to each question below the question. When finished, press `Shift` + `Enter` and you will see your answers in the notebook.\n",
        "\n",
        "The problem is that summing mean deviations will **always** result in that number.\n",
        "\n",
        "-Q5. Why does the sum of mean deviations always equal the same number?\n",
        "\n"
      ]
    },
    {
      "cell_type": "markdown",
      "metadata": {
        "id": "WIsa8WeddyrS"
      },
      "source": [
        "###<font color=\"red\">➡</font> Run the cell###\n",
        "To overcome this problem, we will square each mean deviation before taking the sum. This process is the **sum of squares**. For clarity, we will include all the steps, including the mean deviation.\n",
        "\n",
        "To run the cell, click on it, and then you can either simultaneously hit `Shift` + `Enter`, or you can click the play button to the left of the cell.\n"
      ]
    },
    {
      "cell_type": "code",
      "execution_count": null,
      "metadata": {
        "id": "EIxo0730dyrS"
      },
      "outputs": [],
      "source": [
        "# Mean deviation\n",
        "import numpy as np \n",
        "\n",
        "# Make a new column and assign mean deviation values\n",
        "data[\"z\"] = np.mean(data[\"x\"]) - data[\"x\"] \n",
        "# Make another new column with squared deviations\n",
        "data[\"z1\"] = data['z']**2 \n",
        "# This is now the sum of squared deviations, or the sum of squares\n",
        "data[\"z1\"].sum() "
      ]
    },
    {
      "cell_type": "markdown",
      "source": [
        "### <font color=\"red\">➡</font> Answer the following question ###\n",
        "\n",
        "Text like this is also in a cell. Double click right here to edit this text cell. Then, type your answers to each question below the question. When finished, press `Shift` + `Enter` and you will see your answers in the notebook.\n",
        "\n",
        "-Q6. Why is the sum of squares not equal to the sum of mean deviations? What is different about the two calculations?\n"
      ],
      "metadata": {
        "id": "hIgr5cEAYRRW"
      }
    },
    {
      "cell_type": "markdown",
      "metadata": {
        "id": "gD0Th9YUdyrS"
      },
      "source": [
        "### 9. Variance\n",
        "\n",
        "By squaring each value, we get a measure of the amount of spread present in a distribution. There are some limitions of this method. For one, the sum of squares is in *squared units*, so it is difficult to interpret. Second, this measure of variability is affected by the number of scores in the distribution. \n",
        "\n",
        "Variance solves the second problem. We will divide each score by the size of the distribution. This, too, has a special name, the **degrees of freedom**. The degrees of freedom is equal to the population size whenever we work with a population distribution. The degrees of freedom is equal to `N - 1` whenever we work with a sample distribution."
      ]
    },
    {
      "cell_type": "markdown",
      "source": [
        "###<font color=\"red\">➡</font> Run the cell###\n",
        "In this code, we take our sum of squared deviations and divide by the degrees of freedom to get the population variance. It will result in a single, positive number. To run the cell, click on it, and then you can either simultaneously hit `Shift` + `Enter`, or you can click the play button to the left of the cell.\n"
      ],
      "metadata": {
        "id": "NQhJSo4i6ivc"
      }
    },
    {
      "cell_type": "code",
      "execution_count": null,
      "metadata": {
        "id": "hVDMjaqjdyrT"
      },
      "outputs": [],
      "source": [
        "# Population variance, calculated manually for this example\n",
        "import numpy as np \n",
        "\n",
        "# Below is the sum of squared deviations, or the sum of squares\n",
        "sum_of_squares = data[\"z1\"].sum() \n",
        "# Calculate population variance\n",
        "pop_variance = sum_of_squares / data[\"z1\"].count()\n",
        "# Display population variance\n",
        "pop_variance"
      ]
    },
    {
      "cell_type": "markdown",
      "metadata": {
        "id": "SAdjzR4vdyrT"
      },
      "source": [
        "Python helps us out by having a function we can use to find population variance. Going forward, we do not have to calculate sum of squares first. Notice how both methods give us the same value."
      ]
    },
    {
      "cell_type": "markdown",
      "source": [
        "###<font color=\"red\">➡</font> Run the cell###\n",
        "Run this cell to obtain the same population variance using only two lines of code. To run the cell, click on it, and then you can either simultaneously hit `Shift` + `Enter`, or you can click the play button to the left of the cell.\n"
      ],
      "metadata": {
        "id": "fiHKg69B61BC"
      }
    },
    {
      "cell_type": "code",
      "execution_count": null,
      "metadata": {
        "id": "nAFx4kExdyrT"
      },
      "outputs": [],
      "source": [
        "# Population Variance\n",
        "import numpy as np \n",
        "\n",
        "# Calculate and display the population variance\n",
        "np.std(data[\"x\"], ddof=0)**2 "
      ]
    },
    {
      "cell_type": "markdown",
      "metadata": {
        "id": "XYhaZqT8dyrT"
      },
      "source": [
        "### 10. Standard deviation\n",
        "\n",
        "Finally, standard deviation solves the problem of squared units. We simply take the square root of variance to get standard deviation.\n",
        "\n",
        "Because of that, you can also square the standard deviation in order to get the variance.\n"
      ]
    },
    {
      "cell_type": "markdown",
      "source": [
        "###<font color=\"red\">➡</font> Run the cell###\n",
        "Run the code below to calculate the standard deviation, which will be equal to the square root of the variance you just found. To run the cell, click on it, and then you can either simultaneously hit `Shift` + `Enter`, or you can click the play button to the left of the cell.\n"
      ],
      "metadata": {
        "id": "7KjQv0IR6_D4"
      }
    },
    {
      "cell_type": "code",
      "execution_count": null,
      "metadata": {
        "id": "LbMY6zEedyrU"
      },
      "outputs": [],
      "source": [
        "# Population standard deviation\n",
        "import numpy as np \n",
        "\n",
        "# Calculate and display the population standard deviation\n",
        "np.std(data[\"x\"], ddof=0) "
      ]
    },
    {
      "cell_type": "markdown",
      "metadata": {
        "id": "RYXUOKW7dyrU"
      },
      "source": [
        "### 11. Standard deviation is useful\n",
        "\n",
        "Compared to sum of squares and variance, standard deviation is the most useful single-number summary of variability. Unlike variance and sum of squares, standard deviation is in the same units as the variable.\n",
        "\n",
        "The mean is often a good single-number summary of the central tendency. The standard deviation gives us a measure of variability. Together, we can make an inference about where most of the scores lie on the histogram (the mean) and how spread out the distribution is from the mean (the standard deviation)\n",
        "\n",
        "If we assume a distribution is normal, meaning that it follows a bell-shaped curve, we can make further inferences by combining the mean and standard deivation.\n",
        "\n",
        "**In normally distributed data, a majority of the scores (about 68%) will be +/- 1 standard deviation from the mean.**\n",
        "\n",
        "This is called the **empirical rule** or the **68-95-99.7 rule**. When data are normally distributed, we know where scores will fall. You can determine the interval of scores that include about 68% of the scores this way:"
      ]
    },
    {
      "cell_type": "markdown",
      "source": [
        "###<font color=\"red\">➡</font> Run the cell###\n",
        "The code below will give you two numbers. The lower number is one standard deviation below the mean. The higher number is one standard deviation above the mean. To run the cell, click on it, and then you can either simultaneously hit `Shift` + `Enter`, or you can click the play button to the left of the cell.\n"
      ],
      "metadata": {
        "id": "47xBUHz47PjP"
      }
    },
    {
      "cell_type": "code",
      "execution_count": null,
      "metadata": {
        "id": "JB93TpTRdyrU"
      },
      "outputs": [],
      "source": [
        "# Calculate Intervals Around Mean\n",
        "mean = data[\"x\"].mean()\n",
        "# Find the population standard deviation\n",
        "sdev = np.std(data[\"x\"], ddof=0) \n",
        "# Set to one standard deviation\n",
        "(mean - 1 * sdev, mean + 1 * sdev) "
      ]
    },
    {
      "cell_type": "markdown",
      "metadata": {
        "id": "IvECVZJQdyrU"
      },
      "source": [
        "**In normally distributed data, most of the scores (about 95%) will be +/- 2 standard deviations from the mean.**\n",
        "\n",
        "This uses the same code as before but adds and subtracts the standard deviation a second time. This gives us an interval of scores that include 95% of the distribution."
      ]
    },
    {
      "cell_type": "markdown",
      "source": [
        "### <font color=\"red\">➡</font> Answer the following question ###\n",
        "\n",
        "Text like this is also in a cell. Double click right here to edit this text cell. Then, type your answers to each question below the question. When finished, press `Shift` + `Enter` and you will see your answers in the notebook.\n",
        "\n",
        "-Q7. Use the cell you just calculated to fill in this sentence: \"Assuming the distribution of FIFA players is normal, 95% of players are between the ages of _ and _ .\n",
        "\n",
        "\n"
      ],
      "metadata": {
        "id": "aybPPkq9aXdN"
      }
    },
    {
      "cell_type": "markdown",
      "source": [
        "###<font color=\"red\">➡</font> Run the cell###\n",
        "The code below will give you two numbers. The lower number is two standard deviations below the mean. The higher number is two standard deviations above the mean. To run the cell, click on it, and then you can either simultaneously hit `Shift` + `Enter`, or you can click the play button to the left of the cell.\n"
      ],
      "metadata": {
        "id": "hO18Y9PT7e-k"
      }
    },
    {
      "cell_type": "code",
      "execution_count": null,
      "metadata": {
        "id": "eOQiPDLLdyrV"
      },
      "outputs": [],
      "source": [
        "# Calculate Intervals Around Mean\n",
        "mean = data[\"x\"].mean()\n",
        "# Find the population standard deviation\n",
        "sdev = np.std(data[\"x\"], ddof=0)\n",
        "# Set to two standard deviations\n",
        "(mean - 2 * sdev, mean + 2 * sdev) "
      ]
    },
    {
      "cell_type": "markdown",
      "metadata": {
        "id": "U9yphWYadyrV"
      },
      "source": [
        "**In normally distributed data, nearly all of the scores (about 99.7%) will be +/- 3 standard deviations from the mean.**\n",
        "\n",
        "The next cell uses the same code as before but now lets you input the number of standard deviations to add and subtract. "
      ]
    },
    {
      "cell_type": "markdown",
      "source": [
        "###<font color=\"red\">➡</font> Run the cell###\n",
        "Try entering 2 to confirm the same answer as before. Then, try entering 3. When you use 3 standard deviations, this gives us an interval of scores that include 99.7% of the distribution. To run the cell, click on it, and then you can either simultaneously hit `Shift` + `Enter`, or you can click the play button to the left of the cell.\n"
      ],
      "metadata": {
        "id": "N22tNQSl7v-D"
      }
    },
    {
      "cell_type": "code",
      "execution_count": null,
      "metadata": {
        "id": "ASjoR589dyrV"
      },
      "outputs": [],
      "source": [
        "# Calculate Intervals Around Mean\n",
        "mean = data[\"x\"].mean()\n",
        "# Find the population standard deviation\n",
        "sdev = np.std(data[\"x\"], ddof=0) \n",
        "# Get user input on number of standard deviation\n",
        "num_sd = int(input(\"Number of standard deviation away from mean: \"))\n",
        "# Set to the number of standard deviation set by user\n",
        "(mean - num_sd * sdev, mean + num_sd * sdev)"
      ]
    },
    {
      "cell_type": "markdown",
      "source": [
        "### <font color=\"red\">➡</font> Answer the following questions ###\n",
        "\n",
        "Text like this is also in a cell. Double click right here to edit this text cell. Then, type your answers to each question below the question. When finished, press `Shift` + `Enter` and you will see your answers in the notebook.\n",
        "\n",
        "-Q8. Keep increasing the number of standard deviations in the prior code block until you get an interval that includes the minimum and maximum score. How many standard deviations away from the mean are required to include every player?\n",
        "\n",
        "-Q9. What is the difference between measures of central tendency and measures of variability?\n",
        "\n",
        "-Q10. What is the difference between the **sum of mean deviations** and the **sum of squares**?\n",
        "\n",
        "-Q11. Why is it possible to have more than one mode but not more than one median?\n",
        "\n"
      ],
      "metadata": {
        "id": "tjBAedgY8zHo"
      }
    },
    {
      "cell_type": "markdown",
      "metadata": {
        "id": "1YmXXJ5odyrW"
      },
      "source": [
        "----\n",
        "## IV. Summary\n",
        "\n",
        "- In this module, we introduced different ways you can measure variability, or the tendency for scores to differ from each other.\n",
        "- You saw how you can use Python code to load data, and compute measures of variability."
      ]
    },
    {
      "cell_type": "markdown",
      "metadata": {
        "id": "W06oS8QQdyrW"
      },
      "source": [
        "---\n",
        "## V. All done, congrats! \n",
        "\n",
        "Today you've not only learned about describing data, but you've also learned how to write some Python code. High five!\n",
        "\n",
        "<img src=\"https://live.staticflickr.com/3471/3904325807_8ab0190152_b.jpg\" alt=\"High-five!\" width=\"100\"/>\n",
        "\n",
        "[\"High-five!\"](https://live.staticflickr.com/3471/3904325807_8ab0190152_b.jpg) by Nick J Webb is licensed under CC BY 2.0"
      ]
    }
  ],
  "metadata": {
    "colab": {
      "collapsed_sections": [],
      "name": "APEX STATS Module",
      "private_outputs": true,
      "provenance": [],
      "include_colab_link": true
    },
    "kernelspec": {
      "display_name": "Python 3",
      "language": "python",
      "name": "python3"
    },
    "language_info": {
      "codemirror_mode": {
        "name": "ipython",
        "version": 3
      },
      "file_extension": ".py",
      "mimetype": "text/x-python",
      "name": "python",
      "nbconvert_exporter": "python",
      "pygments_lexer": "ipython3",
      "version": "3.8.5"
    }
  },
  "nbformat": 4,
  "nbformat_minor": 0
}