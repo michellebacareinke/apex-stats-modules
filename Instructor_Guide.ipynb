{
  "cells": [
    {
      "cell_type": "markdown",
      "metadata": {
        "id": "view-in-github",
        "colab_type": "text"
      },
      "source": [
        "<a href=\"https://colab.research.google.com/github/vectrlab/apex-stats-modules/blob/main/Instructor_Guide.ipynb\" target=\"_parent\"><img src=\"https://colab.research.google.com/assets/colab-badge.svg\" alt=\"Open In Colab\"/></a>"
      ]
    },
    {
      "cell_type": "markdown",
      "metadata": {
        "id": "zy5aipatVapI"
      },
      "source": [
        "<img src=\"https://github.com/vectrlab/apex-stats-modules/raw/main/images/APEX_logo.png\" alt=\"APEX: Applied Programming Experiences Logo\" style=\"height:10em;\">\n",
        "\n",
        "# APEX STATS Instructor Guide\n",
        "Module by David Schuster\n",
        "\n",
        "Licensed under CC BY-NC-SA"
      ]
    },
    {
      "cell_type": "markdown",
      "metadata": {
        "id": "8pgzcj--VapM"
      },
      "source": [
        "## 1. Intro and Learning Objectives\n",
        "\n",
        "Welcome! This module is the starting point for instructors who may want to use APEX STATS in their course. \n",
        "\n",
        "After completing this module, you will be able to:\n",
        "\n",
        "- Define APEX STATS and its major features\n",
        "- Decide between the three recommended ways of implementing APEX STATS\n",
        "- Consider how APEX STATS fits into their course\n",
        "\n",
        "This module assumes you are already familiar with Colab and/or Github and can duplicate, create, and edit Colab notebooks.\n",
        "\n",
        "While comfort with Python will be useful, you do not need extensive Python knowledge to incorporate these modules into your course."
      ]
    },
    {
      "cell_type": "markdown",
      "metadata": {
        "id": "5jfzuNwAVapN"
      },
      "source": [
        "## 2. What is APEX STATS?\n",
        "\n",
        "APEX STATS is a set of editable, modular resources that use Python as instructional technology to make it easier for instructors to teach introductory statistics.\n",
        "\n",
        "The goal of the APEX STATS modules is to teach statistical reasoning and concepts through examples that incorporate Python. The modules expose students to Python gradually and provide low-stakes opportunities for them to modify code to perform analysis. This is a <i>stats-first</i> approach, not a Python-first approach, which means that Python background is not necessary to progress through the content. Rather, students will find themselves growing comfortable with Python as they discover it to be useful for their goals. Similarly, instructors can use APEX STATS modules to teach statistical concepts without needing to emphasize Python. Meanwhile, the Python code is always visible and editable for students and instructors to discover the fun challenge of computer programming.\n",
        "\n",
        "APEX STATS is aligned to the California Transfer and Articulation System, <a href=\"https://www.c-id.net\">C-ID</a>, for <a href=\"https://www.c-id.net/descriptors/final/show/365\">Introduction to Statistics</a>. Therefore, it should be useful for any California community college course in \n",
        "\n",
        "APEX STATS is a work in progress! We are taking an iterative, instructor-centered design approach. Your feedback about what is working and not working in APEX STATS will be used to help improve the project."
      ]
    },
    {
      "cell_type": "markdown",
      "metadata": {
        "id": "W6cwfteUVapO"
      },
      "source": [
        "## 3. The APEX STATS Resources\n",
        "\n",
        "APEX STATS is a set of editable, modular resources that work together like this:\n",
        "\n",
        "APEX STATS Code snippets + APEX STATS Dataset = APEX STATS Module\n",
        "\n",
        "In other words, a module is a collection of code snippets that can be run on a dataset. When assembled into a Google Collab notebook, the result is a module.\n",
        "\n",
        "### Modules (apex-stats-modules)\n",
        "\n",
        "These are prebuilt modules ready for use or modification in your course. A module brings together one or more dataset examples with a series of code snippets.\n",
        "\n",
        "### Code Snippet Library (apex-stats-snippets)\n",
        "\n",
        "Code snippets are blocks of code. Once an APEX STATS dataset is loaded, any code snippet can be run in any order. Code snippets can perform calculations, run analysis, or generate new data. Code snippets can be linked together to create a module.\n",
        "\n",
        "### Dataset Library (apex-stats-datasets)\n",
        "\n",
        "Datasets are public datasets with specific formatting. We cleaned them up, so there are no missing cases or erroneous values. Datasets are ready for use with any APEX STATS code snippet. The original messy dataset is separately available in case you want to teach data cleaning. Datasets include a guide that explains the data and gives suggestions for potentially interesting analyses.\n",
        "\n"
      ]
    },
    {
      "cell_type": "markdown",
      "metadata": {
        "id": "JNvkcBTxVapP"
      },
      "source": [
        "## 4. Three strategies to Integrate APEX STATS into Your Course\n",
        "\n",
        "We aim for maximum flexibility for instructors so that these materials can be adapted to your existing course. We recommend one or a mix of three strategies to integrate APEX STATS into your course: \n",
        "\n",
        "### Strategy 1: Use the modules\n",
        "\n",
        "Give your students a link to our prebuilt modules.\n",
        "\n",
        "* Advantages: Most seamless access. No accounts needed. Everybody has the same content. Modules will be updated as bugs are found.\n",
        "* Limitations: If you want to modify the modules in any way, including the snippets and the dataset example, consider the <i>copy and modify</i> strategy, instead. Since all these modules are public, it may be difficult to rely on the existing modules for assessment. Finally, you may prefer a different approach than we took in our modules.\n",
        "\n",
        "### Strategy 2: Copy and modify modules\n",
        "\n",
        "Copy the existing module into your own Collab account, then modify and share with your students using Google Drive or Github. You can use this method to create a version of the module for assessment; simply change the dataset example and remove what you want students to reproduce.\n",
        "\n",
        "* Advantages: You start with a complete module, so you are free to make as many or few changes as you want. You have complete control over module content and code. You can make the module unique to your class. You can change the dataset.\n",
        "* Limitations: You will not benefit from updates to the modules, or you may have to reimplement your modifications if you want to adopt the updated modules.\n",
        "\n",
        "### Strategy 3: Module Construction Kit\n",
        "\n",
        "Build your own module by copying our Module Construction Kit starter module into your own Collab account or Github repo. Select one of the prepared dataset examples. Then, write or link to whatever instructional content you desire and copy and paste APEX STATS code snippets to create a custom module.\n",
        "\n",
        "* Advantages: This offers the best alignment to the specifics of your course and your students. You will have full control over terminology, concepts, and depth of explanation. This approach also allows you to further demphasize or empahize Python. You can make your own updates to your module.\n",
        "* Limitations: It will take time to build and test your modules. Although all code snippets should run without error, you may occasionally encounter unexpected outputs."
      ]
    },
    {
      "cell_type": "markdown",
      "metadata": {
        "id": "ZWbgsa3GVapQ"
      },
      "source": [
        "## 5. What would help your course?\n",
        "\n",
        "The goal of APEX STATS is not to facilitate the learning of statistical concepts by replacing existing proprietary, expensive, outdated, or cumbersome technology or exercises. The idea is for you to adapt APEX STATS to your course and students' needs, not for you to overhaul your course around our approach.\n",
        "\n",
        "Keeping the three recommended strategies in mind, here are some ideas for augmenting or replaicng your materials:\n",
        "\n",
        "- Students work through a module in place of a textbook reading\n",
        "- Students complete a module as a homework assignment\n",
        "- Students work on modules syncronously in pairs or small groups\n",
        "- Instructors can walk the class through a module as a lecture or lab activity\n",
        "- Modules with novel data or code removed can be used as quizzes or exams\n",
        "- Use a module in place of a scientific or graphing calculator\n",
        "- Students run code snippets using data they collected\n",
        "- Students create their own module using code snippets"
      ]
    },
    {
      "cell_type": "markdown",
      "metadata": {
        "id": "u2G5Ws1vVapR"
      },
      "source": [
        "## 6. A Mini Module Example\n",
        "\n",
        "At some point, you will probably discuss the mean in your course. You can combine a code snippet and a dataset example to make a mini module. Then, by changing the dataset example, you can run this code to find the mean in any properly-formatted dataset."
      ]
    },
    {
      "cell_type": "markdown",
      "metadata": {
        "id": "aEGkTA17VapR"
      },
      "source": [
        "## 7. Planned features\n",
        "\n",
        "In the future, instructors will be able to contribute new dataset examples, code snippets, and modules. These resources will be interchangable and can be shared with the community."
      ]
    }
  ],
  "metadata": {
    "colab": {
      "name": "Instructor Guide",
      "provenance": [],
      "include_colab_link": true
    },
    "kernelspec": {
      "display_name": "Python 3",
      "name": "python3"
    },
    "language_info": {
      "codemirror_mode": {
        "name": "ipython",
        "version": 3
      },
      "file_extension": ".py",
      "mimetype": "text/x-python",
      "name": "python",
      "nbconvert_exporter": "python",
      "pygments_lexer": "ipython3",
      "version": "3.9.0"
    }
  },
  "nbformat": 4,
  "nbformat_minor": 0
}