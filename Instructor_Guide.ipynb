{
  "cells": [
    {
      "cell_type": "markdown",
      "metadata": {
        "id": "view-in-github",
        "colab_type": "text"
      },
      "source": [
        "<a href=\"https://colab.research.google.com/github/vectrlab/apex-stats-modules/blob/main/Instructor_Guide.ipynb\" target=\"_parent\"><img src=\"https://colab.research.google.com/assets/colab-badge.svg\" alt=\"Open In Colab\"/></a>"
      ]
    },
    {
      "cell_type": "markdown",
      "metadata": {
        "id": "zy5aipatVapI"
      },
      "source": [
        "<img src=\"https://github.com/vectrlab/apex-stats-modules/raw/main/images/APEX_logo.png\" alt=\"APEX: Applied Programming Experiences Logo\" style=\"height:10em;\" width=\"400\">\n",
        "\n",
        "# APEX STATS Instructor Guide\n",
        "Module by David Schuster\n",
        "\n",
        "Licensed under CC BY-NC-SA\n"
      ]
    },
    {
      "cell_type": "markdown",
      "metadata": {
        "id": "8pgzcj--VapM"
      },
      "source": [
        "## 1. Intro and Learning Objectives\n",
        "\n",
        "Welcome! This module is the starting point for instructors who may want to use APEX STATS in their course. \n",
        "\n",
        "After completing this module, you will be able to:\n",
        "\n",
        "- Define APEX STATS and its major features\n",
        "- Decide between the three recommended ways of implementing APEX STATS\n",
        "- Consider how APEX STATS fits into their course\n",
        "\n",
        "This module assumes you are already familiar with Colab and/or Github and can duplicate, create, and edit Colab notebooks.\n",
        "\n",
        "While comfort with Python will be useful, you do not need extensive Python knowledge to incorporate these modules into your course."
      ]
    },
    {
      "cell_type": "markdown",
      "metadata": {
        "id": "5jfzuNwAVapN"
      },
      "source": [
        "## 2. What is APEX STATS?\n",
        "\n",
        "APEX STATS is a set of editable, modular resources that use Python as instructional technology to make it easier for instructors to teach introductory statistics.\n",
        "\n",
        "The goal of the APEX STATS modules is to teach statistical reasoning and concepts through examples that incorporate Python. The modules expose students to Python gradually and provide low-stakes opportunities for them to modify code to perform analysis. This is a <i>stats-first</i> approach, not a Python-first approach, which means that Python background is not necessary to progress through the content. Rather, students will find themselves growing comfortable with Python as they discover it to be useful for their goals. Similarly, instructors can use APEX STATS modules to teach statistical concepts without needing to emphasize Python. Meanwhile, the Python code is always visible and editable for students and instructors to discover the fun challenge of computer programming.\n",
        "\n",
        "APEX STATS is aligned to the California Transfer and Articulation System, <a href=\"https://www.c-id.net\">C-ID</a>, for <a href=\"https://www.c-id.net/descriptors/final/show/365\">Introduction to Statistics</a>. Therefore, it should be useful for any California community college course in \n",
        "\n",
        "APEX STATS is a work in progress! We are taking an iterative, instructor-centered design approach. Your feedback about what is working and not working in APEX STATS will be used to help improve the project."
      ]
    },
    {
      "cell_type": "markdown",
      "metadata": {
        "id": "W6cwfteUVapO"
      },
      "source": [
        "## 3. The APEX STATS Resources\n",
        "\n",
        "APEX STATS is a set of editable, modular resources that work together like this:\n",
        "\n",
        "APEX STATS Code snippets + APEX STATS Dataset = APEX STATS Module\n",
        "\n",
        "In other words, a module is a collection of code snippets that can be run on a dataset. When assembled into a Google Collab notebook, the result is a module.\n",
        "\n",
        "### Modules (apex-stats-modules)\n",
        "<img src=\"https://github.com/vectrlab/apex-stats-modules/raw/main/images/noun-modules-2209534-FF824A.png\" style=\"max-width:2em;float:left;\" width=\"10%\" alt=\"Modules logo\">\n",
        "\n",
        "These are prebuilt modules ready for use or modification in your course. A module brings together one or more dataset examples with a series of code snippets.\n",
        "\n",
        "### Code Snippet Library (apex-stats-snippets)\n",
        "<img src=\"https://github.com/vectrlab/apex-stats-modules/raw/main/images/noun-tech-2209533-FF824A.png\" style=\"max-width:2em;;float:left;\" width=\"10%\" alt=\"Code snippet logo as a circuit board\">\n",
        "\n",
        "Code snippets are blocks of code. Once an APEX STATS dataset is loaded, any code snippet can be run in any order. Code snippets can perform calculations, run analysis, or generate new data. Code snippets can be linked together to create a module.\n",
        "\n",
        "### Dataset Library (apex-stats-datasets)\n",
        "<img src=\"https://github.com/vectrlab/apex-stats-modules/raw/main/images/noun-cube-2209535-FF824A.png\" style=\"max-width:2em;float:left;\" width=\"10%\" alt=\"Dataset logo as a cube\">\n",
        "\n",
        "Datasets are public datasets with specific formatting. We cleaned them up, so there are no missing cases or erroneous values. Datasets are ready for use with any APEX STATS code snippet. The original messy dataset is separately available in case you want to teach data cleaning. Datasets include a guide that explains the data and gives suggestions for potentially interesting analyses.\n",
        "\n"
      ]
    },
    {
      "cell_type": "markdown",
      "metadata": {
        "id": "JNvkcBTxVapP"
      },
      "source": [
        "## 4. Strategies to Integrate APEX STATS into Your Course\n",
        "\n",
        "We aim for maximum flexibility for instructors so that these materials can be adapted to your existing course. We recommend one or a mix of three strategies to integrate APEX STATS into your course: \n",
        "\n",
        "### Strategy 1: Use the modules\n",
        "\n",
        "Give your students a link to our <a href=\"https://github.com/vectrlab/apex-stats-modules/\">prebuilt modules</a>.\n",
        "\n",
        "* Advantages: Most seamless access. No accounts needed. Everybody has the same content. Modules will be updated as bugs are found.\n",
        "* Limitations: If you want to modify the modules in any way, including the snippets and the dataset example, consider the <i>copy and modify</i> strategy, instead. Since all these modules are public, it may be difficult to rely on the existing modules for assessment. Finally, you may prefer a different approach than we took in our modules.\n",
        "\n",
        "### Strategy 2: Copy and modify modules\n",
        "\n",
        "Copy an existing module into your own Collab account, then modify and share with your students using Google Drive or Github. You can use this method to create a version of the module for assessment; simply change the dataset example and remove what you want students to reproduce.\n",
        "\n",
        "* Advantages: You start with a complete module, so you are free to make as many or few changes as you want. You have complete control over module content and code. You can make the module unique to your class. You can change the dataset.\n",
        "* Limitations: You will not benefit from updates to the modules, or you may have to reimplement your modifications if you want to adopt the updated modules.\n",
        "\n",
        "### Strategy 3: Module Construction Kit\n",
        "\n",
        "Build your own module by copying our <a href=\"https://colab.research.google.com/github/vectrlab/apex-stats-modules/blob/main/Module_Construction_Kit.ipynb\">Module Construction Kit starter module</a> into your own Collab account or Github repo. Select one of the prepared dataset examples. Then, write or link to whatever instructional content you desire and copy and paste APEX STATS code snippets to create a custom module.\n",
        "\n",
        "* Advantages: This offers the best alignment to the specifics of your course and your students. You will have full control over terminology, concepts, and depth of explanation. This approach also allows you to further demphasize or empahize Python. You can make your own updates to your module.\n",
        "* Limitations: It will take time to build and test your modules. Although all code snippets should run without error, you may occasionally encounter unexpected outputs."
      ]
    },
    {
      "cell_type": "markdown",
      "metadata": {
        "id": "ZWbgsa3GVapQ"
      },
      "source": [
        "## 5. What would help your course?\n",
        "\n",
        "The goal of APEX STATS is not to facilitate the learning of statistical concepts by replacing existing proprietary, expensive, outdated, or cumbersome technology or exercises. The idea is for you to adapt APEX STATS to your course and students' needs, not for you to overhaul your course around our approach.\n",
        "\n",
        "Keeping the three recommended strategies in mind, here are some ideas for augmenting or replacing your materials:\n",
        "\n",
        "- Students work through a module in place of a textbook reading\n",
        "- Students complete a module as a homework assignment\n",
        "- Students work on modules synchronously in pairs or small groups\n",
        "- Instructors can walk the class through a module as a lecture or lab activity\n",
        "- Modules with novel data or code removed can be used as quizzes or exams\n",
        "- Use a module in place of a scientific or graphing calculator\n",
        "- Students run code snippets using data they collected\n",
        "- Students create their own module using code snippets"
      ]
    },
    {
      "cell_type": "markdown",
      "metadata": {
        "id": "u2G5Ws1vVapR"
      },
      "source": [
        "## 6. A Mini Module Example\n",
        "\n",
        "To illustrate that modules are built of a dataset and a code snippet, here is a minimum module example. At some point, you will probably discuss the mean in your course. You can combine a code snippet and a dataset example to make a mini module. Then, by changing the dataset example, you can run this code to find the mean in any APEX-STATS formatted dataset. First, here is a code snippet to load a **dataset** from the APEX STATS dataset library:\n"
      ]
    },
    {
      "cell_type": "code",
      "execution_count": null,
      "metadata": {
        "colab": {
          "base_uri": "https://localhost:8080/",
          "height": 419
        },
        "id": "R_HHM12ErOnj",
        "outputId": "6b3f159c-ca9c-4038-a288-5e84c86beb20"
      },
      "outputs": [
        {
          "data": {
            "text/html": [
              "<div>\n",
              "<style scoped>\n",
              "    .dataframe tbody tr th:only-of-type {\n",
              "        vertical-align: middle;\n",
              "    }\n",
              "\n",
              "    .dataframe tbody tr th {\n",
              "        vertical-align: top;\n",
              "    }\n",
              "\n",
              "    .dataframe thead th {\n",
              "        text-align: right;\n",
              "    }\n",
              "</style>\n",
              "<table border=\"1\" class=\"dataframe\">\n",
              "  <thead>\n",
              "    <tr style=\"text-align: right;\">\n",
              "      <th></th>\n",
              "      <th>y</th>\n",
              "      <th>x</th>\n",
              "      <th>x1</th>\n",
              "      <th>x2</th>\n",
              "      <th>x3</th>\n",
              "      <th>x4</th>\n",
              "      <th>x5</th>\n",
              "      <th>x6</th>\n",
              "      <th>x7</th>\n",
              "      <th>x8</th>\n",
              "    </tr>\n",
              "  </thead>\n",
              "  <tbody>\n",
              "    <tr>\n",
              "      <th>0</th>\n",
              "      <td>565</td>\n",
              "      <td>31</td>\n",
              "      <td>70.0</td>\n",
              "      <td>97.0</td>\n",
              "      <td>91.0</td>\n",
              "      <td>85.0</td>\n",
              "      <td>10.0</td>\n",
              "      <td>RF</td>\n",
              "      <td>L. Messi</td>\n",
              "      <td>FC Barcelona</td>\n",
              "    </tr>\n",
              "    <tr>\n",
              "      <th>1</th>\n",
              "      <td>405</td>\n",
              "      <td>33</td>\n",
              "      <td>89.0</td>\n",
              "      <td>88.0</td>\n",
              "      <td>87.0</td>\n",
              "      <td>95.0</td>\n",
              "      <td>7.0</td>\n",
              "      <td>ST</td>\n",
              "      <td>Cristiano Ronaldo</td>\n",
              "      <td>Juventus</td>\n",
              "    </tr>\n",
              "    <tr>\n",
              "      <th>2</th>\n",
              "      <td>290</td>\n",
              "      <td>26</td>\n",
              "      <td>62.0</td>\n",
              "      <td>96.0</td>\n",
              "      <td>96.0</td>\n",
              "      <td>80.0</td>\n",
              "      <td>10.0</td>\n",
              "      <td>LW</td>\n",
              "      <td>Neymar Jr</td>\n",
              "      <td>Paris Saint-Germain</td>\n",
              "    </tr>\n",
              "    <tr>\n",
              "      <th>3</th>\n",
              "      <td>260</td>\n",
              "      <td>27</td>\n",
              "      <td>21.0</td>\n",
              "      <td>18.0</td>\n",
              "      <td>60.0</td>\n",
              "      <td>31.0</td>\n",
              "      <td>1.0</td>\n",
              "      <td>GK</td>\n",
              "      <td>De Gea</td>\n",
              "      <td>Manchester United</td>\n",
              "    </tr>\n",
              "    <tr>\n",
              "      <th>4</th>\n",
              "      <td>355</td>\n",
              "      <td>27</td>\n",
              "      <td>55.0</td>\n",
              "      <td>86.0</td>\n",
              "      <td>79.0</td>\n",
              "      <td>91.0</td>\n",
              "      <td>7.0</td>\n",
              "      <td>RCM</td>\n",
              "      <td>K. De Bruyne</td>\n",
              "      <td>Manchester City</td>\n",
              "    </tr>\n",
              "    <tr>\n",
              "      <th>...</th>\n",
              "      <td>...</td>\n",
              "      <td>...</td>\n",
              "      <td>...</td>\n",
              "      <td>...</td>\n",
              "      <td>...</td>\n",
              "      <td>...</td>\n",
              "      <td>...</td>\n",
              "      <td>...</td>\n",
              "      <td>...</td>\n",
              "      <td>...</td>\n",
              "    </tr>\n",
              "    <tr>\n",
              "      <th>18202</th>\n",
              "      <td>1</td>\n",
              "      <td>19</td>\n",
              "      <td>40.0</td>\n",
              "      <td>42.0</td>\n",
              "      <td>60.0</td>\n",
              "      <td>43.0</td>\n",
              "      <td>22.0</td>\n",
              "      <td>CM</td>\n",
              "      <td>J. Lundstram</td>\n",
              "      <td>Crewe Alexandra</td>\n",
              "    </tr>\n",
              "    <tr>\n",
              "      <th>18203</th>\n",
              "      <td>1</td>\n",
              "      <td>19</td>\n",
              "      <td>52.0</td>\n",
              "      <td>39.0</td>\n",
              "      <td>38.0</td>\n",
              "      <td>41.0</td>\n",
              "      <td>21.0</td>\n",
              "      <td>ST</td>\n",
              "      <td>N. Christoffersson</td>\n",
              "      <td>Trelleborgs FF</td>\n",
              "    </tr>\n",
              "    <tr>\n",
              "      <th>18204</th>\n",
              "      <td>1</td>\n",
              "      <td>16</td>\n",
              "      <td>46.0</td>\n",
              "      <td>45.0</td>\n",
              "      <td>50.0</td>\n",
              "      <td>45.0</td>\n",
              "      <td>33.0</td>\n",
              "      <td>ST</td>\n",
              "      <td>B. Worman</td>\n",
              "      <td>Cambridge United</td>\n",
              "    </tr>\n",
              "    <tr>\n",
              "      <th>18205</th>\n",
              "      <td>1</td>\n",
              "      <td>17</td>\n",
              "      <td>39.0</td>\n",
              "      <td>51.0</td>\n",
              "      <td>52.0</td>\n",
              "      <td>64.0</td>\n",
              "      <td>34.0</td>\n",
              "      <td>RW</td>\n",
              "      <td>D. Walker-Rice</td>\n",
              "      <td>Tranmere Rovers</td>\n",
              "    </tr>\n",
              "    <tr>\n",
              "      <th>18206</th>\n",
              "      <td>1</td>\n",
              "      <td>16</td>\n",
              "      <td>46.0</td>\n",
              "      <td>43.0</td>\n",
              "      <td>55.0</td>\n",
              "      <td>43.0</td>\n",
              "      <td>33.0</td>\n",
              "      <td>CM</td>\n",
              "      <td>G. Nugent</td>\n",
              "      <td>Tranmere Rovers</td>\n",
              "    </tr>\n",
              "  </tbody>\n",
              "</table>\n",
              "<p>18207 rows × 10 columns</p>\n",
              "</div>"
            ],
            "text/plain": [
              "         y   x    x1    x2    x3    x4    x5   x6                  x7  \\\n",
              "0      565  31  70.0  97.0  91.0  85.0  10.0   RF            L. Messi   \n",
              "1      405  33  89.0  88.0  87.0  95.0   7.0   ST   Cristiano Ronaldo   \n",
              "2      290  26  62.0  96.0  96.0  80.0  10.0   LW           Neymar Jr   \n",
              "3      260  27  21.0  18.0  60.0  31.0   1.0   GK              De Gea   \n",
              "4      355  27  55.0  86.0  79.0  91.0   7.0  RCM        K. De Bruyne   \n",
              "...    ...  ..   ...   ...   ...   ...   ...  ...                 ...   \n",
              "18202    1  19  40.0  42.0  60.0  43.0  22.0   CM        J. Lundstram   \n",
              "18203    1  19  52.0  39.0  38.0  41.0  21.0   ST  N. Christoffersson   \n",
              "18204    1  16  46.0  45.0  50.0  45.0  33.0   ST           B. Worman   \n",
              "18205    1  17  39.0  51.0  52.0  64.0  34.0   RW      D. Walker-Rice   \n",
              "18206    1  16  46.0  43.0  55.0  43.0  33.0   CM           G. Nugent   \n",
              "\n",
              "                        x8  \n",
              "0             FC Barcelona  \n",
              "1                 Juventus  \n",
              "2      Paris Saint-Germain  \n",
              "3        Manchester United  \n",
              "4          Manchester City  \n",
              "...                    ...  \n",
              "18202      Crewe Alexandra  \n",
              "18203       Trelleborgs FF  \n",
              "18204     Cambridge United  \n",
              "18205      Tranmere Rovers  \n",
              "18206      Tranmere Rovers  \n",
              "\n",
              "[18207 rows x 10 columns]"
            ]
          },
          "execution_count": 1,
          "metadata": {},
          "output_type": "execute_result"
        }
      ],
      "source": [
        "# Setup Example Data\n",
        "\n",
        "# import library\n",
        "import pandas as pd \n",
        "# read FIFA19 data\n",
        "data = pd.read_csv(\"https://raw.githubusercontent.com/vectrlab/apex-stats-datasets/main/fifa19/example.csv\") \n",
        "# display the data\n",
        "data "
      ]
    },
    {
      "cell_type": "markdown",
      "metadata": {
        "id": "6Nl_KM3SrPeC"
      },
      "source": [
        "Click the play button to run that code, and the data will be loaded into memory. Now, you can run any of the other code snippets using the loaded data. Here, we find that the mean age of players featured in the video game FIFA '19 is 25: "
      ]
    },
    {
      "cell_type": "code",
      "execution_count": null,
      "metadata": {
        "colab": {
          "base_uri": "https://localhost:8080/"
        },
        "id": "rWRRdxecri85",
        "outputId": "b139408a-a8ab-405f-d766-282e7ce4d9a3"
      },
      "outputs": [
        {
          "data": {
            "text/plain": [
              "266254.76648444386"
            ]
          },
          "execution_count": 5,
          "metadata": {},
          "output_type": "execute_result"
        }
      ],
      "source": [
        "#@title Population mean\n",
        "\n",
        "# import library\n",
        "import numpy as np \n",
        "# display the mean\n",
        "np.mean(data[\"x\"]) "
      ]
    },
    {
      "cell_type": "markdown",
      "metadata": {
        "id": "UXq4HEZ-sBlk"
      },
      "source": [
        "Next, try changing the first code block to another example. Replace *fifa19* with *connecticut-housing* to find the mean of county median home sale prices in Connecticut. Change just *fifa19* and rerun both code blocks. You should find a value of $266,254. This illustrates how the dataset examples are largely interchangable."
      ]
    },
    {
      "cell_type": "markdown",
      "metadata": {
        "id": "aEGkTA17VapR"
      },
      "source": [
        "## 7. Planned features\n",
        "\n",
        "In the future, instructors will be able to contribute new dataset examples, code snippets, and modules. These resources will be interchangable and can be shared with the community."
      ]
    }
  ],
  "metadata": {
    "colab": {
      "name": "Instructor Guide",
      "provenance": [],
      "include_colab_link": true
    },
    "kernelspec": {
      "display_name": "Python 3",
      "language": "python",
      "name": "python3"
    },
    "language_info": {
      "codemirror_mode": {
        "name": "ipython",
        "version": 3
      },
      "file_extension": ".py",
      "mimetype": "text/x-python",
      "name": "python",
      "nbconvert_exporter": "python",
      "pygments_lexer": "ipython3",
      "version": "3.8.5"
    }
  },
  "nbformat": 4,
  "nbformat_minor": 0
}