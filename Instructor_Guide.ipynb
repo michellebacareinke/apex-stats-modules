{
  "cells": [
    {
      "cell_type": "markdown",
      "metadata": {
        "id": "view-in-github",
        "colab_type": "text"
      },
      "source": [
        "<a href=\"https://colab.research.google.com/github/vectrlab/apex-stats-modules/blob/main/Instructor_Guide.ipynb\" target=\"_parent\"><img src=\"https://colab.research.google.com/assets/colab-badge.svg\" alt=\"Open In Colab\"/></a>"
      ]
    },
    {
      "cell_type": "markdown",
      "metadata": {
        "id": "zy5aipatVapI"
      },
      "source": [
        "<img src=\"https://github.com/vectrlab/apex-stats-modules/raw/main/images/APEX_logo.png\" alt=\"APEX: Applied Programming Experiences Logo\" style=\"height:10em;\" width=\"400\">\n",
        "\n",
        "# APEX STATS Instructor Guide\n",
        "Module by David Schuster\n",
        "\n",
        "Licensed under CC BY-NC-SA\n"
      ]
    },
    {
      "cell_type": "markdown",
      "metadata": {
        "id": "8pgzcj--VapM"
      },
      "source": [
        "## 1. Intro and Learning Objectives\n",
        "\n",
        "Welcome! This module is the starting point for instructors who may want to use APEX STATS in their course. \n",
        "\n",
        "After completing this module, you will be able to:\n",
        "\n",
        "- Define APEX STATS and its major features\n",
        "- Decide between the three recommended ways of implementing APEX STATS\n",
        "- Consider how APEX STATS fits into their course\n",
        "\n",
        "This module assumes you are already familiar with Colab and/or Github and can duplicate, create, and edit Colab notebooks.\n",
        "\n",
        "While comfort with Python will be useful, you do not need extensive Python knowledge to incorporate these modules into your course."
      ]
    },
    {
      "cell_type": "markdown",
      "metadata": {
        "id": "5jfzuNwAVapN"
      },
      "source": [
        "## 2. What is APEX STATS?\n",
        "\n",
        "APEX STATS is a set of editable, modular resources that use Python as instructional technology to make it easier for instructors to teach introductory statistics.\n",
        "\n",
        "The goal of the APEX STATS modules is to teach statistical reasoning and concepts through examples that incorporate Python. The modules expose students to Python gradually and provide low-stakes opportunities for them to modify code to perform analysis. This is a <i>stats-first</i> approach, not a Python-first approach, which means that Python background is not necessary to progress through the content. Rather, students will find themselves growing comfortable with Python as they discover it to be useful for their goals. Similarly, instructors can use APEX STATS modules to teach statistical concepts without needing to emphasize Python. Meanwhile, the Python code is always visible and editable for students and instructors to discover the fun challenge of computer programming.\n",
        "\n",
        "APEX STATS is aligned to the California Transfer and Articulation System, <a href=\"https://www.c-id.net\">C-ID</a>, for <a href=\"https://www.c-id.net/descriptors/final/show/365\">Introduction to Statistics</a>. Therefore, it should be useful for any California community college course in \n",
        "\n",
        "APEX STATS is a work in progress! We are taking an iterative, instructor-centered design approach. Your feedback about what is working and not working in APEX STATS will be used to help improve the project."
      ]
    },
    {
      "cell_type": "markdown",
      "metadata": {
        "id": "W6cwfteUVapO"
      },
      "source": [
        "## 3. The APEX STATS Resources\n",
        "\n",
        "APEX STATS is a set of editable, modular resources that work together like this:\n",
        "\n",
        "APEX STATS Code snippets + APEX STATS Dataset = APEX STATS Module\n",
        "\n",
        "In other words, a module is a collection of code snippets that can be run on a dataset. When assembled into a Google Collab notebook, the result is a module.\n",
        "\n",
        "### Modules (apex-stats-modules)\n",
        "<img src=\"https://github.com/vectrlab/apex-stats-modules/raw/main/images/noun-modules-2209534-FF824A.png\" style=\"max-width:2em;float:left;\" width=\"10%\" alt=\"Modules logo\">\n",
        "\n",
        "These are prebuilt modules ready for use or modification in your course. A module brings together one or more dataset examples with a series of code snippets.\n",
        "\n",
        "### Code Snippet Library (apex-stats-snippets)\n",
        "<img src=\"https://github.com/vectrlab/apex-stats-modules/raw/main/images/noun-tech-2209533-FF824A.png\" style=\"max-width:2em;;float:left;\" width=\"10%\" alt=\"Code snippet logo as a circuit board\">\n",
        "\n",
        "Code snippets are blocks of code. Once an APEX STATS dataset is loaded, any code snippet can be run in any order. Code snippets can perform calculations, run analysis, or generate new data. Code snippets can be linked together to create a module.\n",
        "\n",
        "### Dataset Library (apex-stats-datasets)\n",
        "<img src=\"https://github.com/vectrlab/apex-stats-modules/raw/main/images/noun-cube-2209535-FF824A.png\" style=\"max-width:2em;float:left;\" width=\"10%\" alt=\"Dataset logo as a cube\">\n",
        "\n",
        "Datasets are public datasets with specific formatting. We cleaned them up, so there are no missing cases or erroneous values. Datasets are ready for use with any APEX STATS code snippet. The original messy dataset is separately available in case you want to teach data cleaning. Datasets include a guide that explains the data and gives suggestions for potentially interesting analyses.\n",
        "\n"
      ]
    },
    {
      "cell_type": "markdown",
      "metadata": {
        "id": "JNvkcBTxVapP"
      },
      "source": [
        "## 4. Strategies to Integrate APEX STATS into Your Course\n",
        "\n",
        "We aim for maximum flexibility for instructors so that these materials can be adapted to your existing course. We recommend one or a mix of three strategies to integrate APEX STATS into your course: \n",
        "\n",
        "### Strategy 1: Use the modules\n",
        "\n",
        "Give your students a link to our <a href=\"https://github.com/vectrlab/apex-stats-modules/\">prebuilt modules</a>.\n",
        "\n",
        "* Advantages: Most seamless access. No accounts needed. Everybody has the same content. Modules will be updated as bugs are found.\n",
        "* Limitations: If you want to modify the modules in any way, including the snippets and the dataset example, consider the <i>copy and modify</i> strategy, instead. Since all these modules are public, it may be difficult to rely on the existing modules for assessment. Finally, you may prefer a different approach than we took in our modules.\n",
        "\n",
        "### Strategy 2: Copy and modify modules\n",
        "\n",
        "Copy an existing module into your own Collab account, then modify and share with your students using Google Drive or Github. You can use this method to create a version of the module for assessment; simply change the dataset example and remove what you want students to reproduce.\n",
        "\n",
        "* Advantages: You start with a complete module, so you are free to make as many or few changes as you want. You have complete control over module content and code. You can make the module unique to your class. You can change the dataset.\n",
        "* Limitations: You will not benefit from updates to the modules, or you may have to reimplement your modifications if you want to adopt the updated modules.\n",
        "\n",
        "### Strategy 3: Module Construction Kit\n",
        "\n",
        "Build your own module by copying our <a href=\"https://colab.research.google.com/github/vectrlab/apex-stats-modules/blob/main/Module_Construction_Kit.ipynb\">Module Construction Kit starter module</a> into your own Collab account or Github repo. Select one of the prepared dataset examples. Then, write or link to whatever instructional content you desire and copy and paste APEX STATS code snippets to create a custom module.\n",
        "\n",
        "* Advantages: This offers the best alignment to the specifics of your course and your students. You will have full control over terminology, concepts, and depth of explanation. This approach also allows you to further demphasize or empahize Python. You can make your own updates to your module.\n",
        "* Limitations: It will take time to build and test your modules. Although all code snippets should run without error, you may occasionally encounter unexpected outputs."
      ]
    },
    {
      "cell_type": "markdown",
      "metadata": {
        "id": "ZWbgsa3GVapQ"
      },
      "source": [
        "## 5. What would help your course?\n",
        "\n",
        "The goal of APEX STATS is not to facilitate the learning of statistical concepts by replacing existing proprietary, expensive, outdated, or cumbersome technology or exercises. The idea is for you to adapt APEX STATS to your course and students' needs, not for you to overhaul your course around our approach.\n",
        "\n",
        "Keeping the three recommended strategies in mind, here are some ideas for augmenting or replaicng your materials:\n",
        "\n",
        "- Students work through a module in place of a textbook reading\n",
        "- Students complete a module as a homework assignment\n",
        "- Students work on modules syncronously in pairs or small groups\n",
        "- Instructors can walk the class through a module as a lecture or lab activity\n",
        "- Modules with novel data or code removed can be used as quizzes or exams\n",
        "- Use a module in place of a scientific or graphing calculator\n",
        "- Students run code snippets using data they collected\n",
        "- Students create their own module using code snippets"
      ]
    },
    {
      "cell_type": "markdown",
      "metadata": {
        "id": "u2G5Ws1vVapR"
      },
      "source": [
        "## 6. A Mini Module Example\n",
        "\n",
        "To illustrate that modules are built of a dataset and a code snippet, here is a minimum module example. At some point, you will probably discuss the mean in your course. You can combine a code snippet and a dataset example to make a mini module. Then, by changing the dataset example, you can run this code to find the mean in any APEX-STATS formatted dataset. First, here is a code snippet to load a **dataset** from the APEX STATS dataset library:\n"
      ]
    },
    {
      "cell_type": "code",
      "source": [
        "#@title Setup Example Data\n",
        "import pandas as pd # import library\n",
        "data = pd.read_csv(\"https://raw.githubusercontent.com/vectrlab/apex-python-datasets/main/fifa19/example.csv\") # FIFA19 data\n",
        "data # display the data"
      ],
      "metadata": {
        "id": "R_HHM12ErOnj",
        "outputId": "6b3f159c-ca9c-4038-a288-5e84c86beb20",
        "colab": {
          "base_uri": "https://localhost:8080/",
          "height": 419
        }
      },
      "execution_count": null,
      "outputs": [
        {
          "output_type": "execute_result",
          "data": {
            "text/plain": [
              "              Y          X         X1\n",
              "0     Fairfield  369587.11  607031.57\n",
              "1     Fairfield  351716.13  612695.88\n",
              "2     Fairfield  375670.85  581427.50\n",
              "3     Fairfield  372628.98  579640.90\n",
              "4     Fairfield  401488.72  576070.59\n",
              "...         ...        ...        ...\n",
              "2245    Windham  245500.00  255984.24\n",
              "2246    Windham  259950.00  273981.86\n",
              "2247    Windham  250000.00  263424.27\n",
              "2248    Windham  250000.00  272642.60\n",
              "2249    Windham  250000.00  265434.49\n",
              "\n",
              "[2250 rows x 3 columns]"
            ],
            "text/html": [
              "\n",
              "  <div id=\"df-2b7ba402-fcfe-4ae6-af36-a205fd9c12be\">\n",
              "    <div class=\"colab-df-container\">\n",
              "      <div>\n",
              "<style scoped>\n",
              "    .dataframe tbody tr th:only-of-type {\n",
              "        vertical-align: middle;\n",
              "    }\n",
              "\n",
              "    .dataframe tbody tr th {\n",
              "        vertical-align: top;\n",
              "    }\n",
              "\n",
              "    .dataframe thead th {\n",
              "        text-align: right;\n",
              "    }\n",
              "</style>\n",
              "<table border=\"1\" class=\"dataframe\">\n",
              "  <thead>\n",
              "    <tr style=\"text-align: right;\">\n",
              "      <th></th>\n",
              "      <th>Y</th>\n",
              "      <th>X</th>\n",
              "      <th>X1</th>\n",
              "    </tr>\n",
              "  </thead>\n",
              "  <tbody>\n",
              "    <tr>\n",
              "      <th>0</th>\n",
              "      <td>Fairfield</td>\n",
              "      <td>369587.11</td>\n",
              "      <td>607031.57</td>\n",
              "    </tr>\n",
              "    <tr>\n",
              "      <th>1</th>\n",
              "      <td>Fairfield</td>\n",
              "      <td>351716.13</td>\n",
              "      <td>612695.88</td>\n",
              "    </tr>\n",
              "    <tr>\n",
              "      <th>2</th>\n",
              "      <td>Fairfield</td>\n",
              "      <td>375670.85</td>\n",
              "      <td>581427.50</td>\n",
              "    </tr>\n",
              "    <tr>\n",
              "      <th>3</th>\n",
              "      <td>Fairfield</td>\n",
              "      <td>372628.98</td>\n",
              "      <td>579640.90</td>\n",
              "    </tr>\n",
              "    <tr>\n",
              "      <th>4</th>\n",
              "      <td>Fairfield</td>\n",
              "      <td>401488.72</td>\n",
              "      <td>576070.59</td>\n",
              "    </tr>\n",
              "    <tr>\n",
              "      <th>...</th>\n",
              "      <td>...</td>\n",
              "      <td>...</td>\n",
              "      <td>...</td>\n",
              "    </tr>\n",
              "    <tr>\n",
              "      <th>2245</th>\n",
              "      <td>Windham</td>\n",
              "      <td>245500.00</td>\n",
              "      <td>255984.24</td>\n",
              "    </tr>\n",
              "    <tr>\n",
              "      <th>2246</th>\n",
              "      <td>Windham</td>\n",
              "      <td>259950.00</td>\n",
              "      <td>273981.86</td>\n",
              "    </tr>\n",
              "    <tr>\n",
              "      <th>2247</th>\n",
              "      <td>Windham</td>\n",
              "      <td>250000.00</td>\n",
              "      <td>263424.27</td>\n",
              "    </tr>\n",
              "    <tr>\n",
              "      <th>2248</th>\n",
              "      <td>Windham</td>\n",
              "      <td>250000.00</td>\n",
              "      <td>272642.60</td>\n",
              "    </tr>\n",
              "    <tr>\n",
              "      <th>2249</th>\n",
              "      <td>Windham</td>\n",
              "      <td>250000.00</td>\n",
              "      <td>265434.49</td>\n",
              "    </tr>\n",
              "  </tbody>\n",
              "</table>\n",
              "<p>2250 rows × 3 columns</p>\n",
              "</div>\n",
              "      <button class=\"colab-df-convert\" onclick=\"convertToInteractive('df-2b7ba402-fcfe-4ae6-af36-a205fd9c12be')\"\n",
              "              title=\"Convert this dataframe to an interactive table.\"\n",
              "              style=\"display:none;\">\n",
              "        \n",
              "  <svg xmlns=\"http://www.w3.org/2000/svg\" height=\"24px\"viewBox=\"0 0 24 24\"\n",
              "       width=\"24px\">\n",
              "    <path d=\"M0 0h24v24H0V0z\" fill=\"none\"/>\n",
              "    <path d=\"M18.56 5.44l.94 2.06.94-2.06 2.06-.94-2.06-.94-.94-2.06-.94 2.06-2.06.94zm-11 1L8.5 8.5l.94-2.06 2.06-.94-2.06-.94L8.5 2.5l-.94 2.06-2.06.94zm10 10l.94 2.06.94-2.06 2.06-.94-2.06-.94-.94-2.06-.94 2.06-2.06.94z\"/><path d=\"M17.41 7.96l-1.37-1.37c-.4-.4-.92-.59-1.43-.59-.52 0-1.04.2-1.43.59L10.3 9.45l-7.72 7.72c-.78.78-.78 2.05 0 2.83L4 21.41c.39.39.9.59 1.41.59.51 0 1.02-.2 1.41-.59l7.78-7.78 2.81-2.81c.8-.78.8-2.07 0-2.86zM5.41 20L4 18.59l7.72-7.72 1.47 1.35L5.41 20z\"/>\n",
              "  </svg>\n",
              "      </button>\n",
              "      \n",
              "  <style>\n",
              "    .colab-df-container {\n",
              "      display:flex;\n",
              "      flex-wrap:wrap;\n",
              "      gap: 12px;\n",
              "    }\n",
              "\n",
              "    .colab-df-convert {\n",
              "      background-color: #E8F0FE;\n",
              "      border: none;\n",
              "      border-radius: 50%;\n",
              "      cursor: pointer;\n",
              "      display: none;\n",
              "      fill: #1967D2;\n",
              "      height: 32px;\n",
              "      padding: 0 0 0 0;\n",
              "      width: 32px;\n",
              "    }\n",
              "\n",
              "    .colab-df-convert:hover {\n",
              "      background-color: #E2EBFA;\n",
              "      box-shadow: 0px 1px 2px rgba(60, 64, 67, 0.3), 0px 1px 3px 1px rgba(60, 64, 67, 0.15);\n",
              "      fill: #174EA6;\n",
              "    }\n",
              "\n",
              "    [theme=dark] .colab-df-convert {\n",
              "      background-color: #3B4455;\n",
              "      fill: #D2E3FC;\n",
              "    }\n",
              "\n",
              "    [theme=dark] .colab-df-convert:hover {\n",
              "      background-color: #434B5C;\n",
              "      box-shadow: 0px 1px 3px 1px rgba(0, 0, 0, 0.15);\n",
              "      filter: drop-shadow(0px 1px 2px rgba(0, 0, 0, 0.3));\n",
              "      fill: #FFFFFF;\n",
              "    }\n",
              "  </style>\n",
              "\n",
              "      <script>\n",
              "        const buttonEl =\n",
              "          document.querySelector('#df-2b7ba402-fcfe-4ae6-af36-a205fd9c12be button.colab-df-convert');\n",
              "        buttonEl.style.display =\n",
              "          google.colab.kernel.accessAllowed ? 'block' : 'none';\n",
              "\n",
              "        async function convertToInteractive(key) {\n",
              "          const element = document.querySelector('#df-2b7ba402-fcfe-4ae6-af36-a205fd9c12be');\n",
              "          const dataTable =\n",
              "            await google.colab.kernel.invokeFunction('convertToInteractive',\n",
              "                                                     [key], {});\n",
              "          if (!dataTable) return;\n",
              "\n",
              "          const docLinkHtml = 'Like what you see? Visit the ' +\n",
              "            '<a target=\"_blank\" href=https://colab.research.google.com/notebooks/data_table.ipynb>data table notebook</a>'\n",
              "            + ' to learn more about interactive tables.';\n",
              "          element.innerHTML = '';\n",
              "          dataTable['output_type'] = 'display_data';\n",
              "          await google.colab.output.renderOutput(dataTable, element);\n",
              "          const docLink = document.createElement('div');\n",
              "          docLink.innerHTML = docLinkHtml;\n",
              "          element.appendChild(docLink);\n",
              "        }\n",
              "      </script>\n",
              "    </div>\n",
              "  </div>\n",
              "  "
            ]
          },
          "metadata": {},
          "execution_count": 4
        }
      ]
    },
    {
      "cell_type": "markdown",
      "source": [
        "Click the play button to run that code, and the data will be loaded into memory. Now, you can run any of the other code snippets using the loaded data. Here, we find that the mean age of players featured in the video game FIFA '19 is 25: "
      ],
      "metadata": {
        "id": "6Nl_KM3SrPeC"
      }
    },
    {
      "cell_type": "code",
      "source": [
        "#@title Population mean\n",
        "import numpy as np # import library\n",
        "np.mean(data[\"X\"]) # display the mean"
      ],
      "metadata": {
        "id": "rWRRdxecri85",
        "outputId": "b139408a-a8ab-405f-d766-282e7ce4d9a3",
        "colab": {
          "base_uri": "https://localhost:8080/"
        }
      },
      "execution_count": null,
      "outputs": [
        {
          "output_type": "execute_result",
          "data": {
            "text/plain": [
              "266254.76648444386"
            ]
          },
          "metadata": {},
          "execution_count": 5
        }
      ]
    },
    {
      "cell_type": "markdown",
      "source": [
        "Next, try changing the first code block to another example. Replace *fifa19* with *connecticut-housing* to find the mean of county median home sale prices in Connecticut. Change just *fifa19* and rerun both code blocks. You should find a value of $266,254. This illustrates how the dataset examples are largely interchangable."
      ],
      "metadata": {
        "id": "UXq4HEZ-sBlk"
      }
    },
    {
      "cell_type": "markdown",
      "metadata": {
        "id": "aEGkTA17VapR"
      },
      "source": [
        "## 7. Planned features\n",
        "\n",
        "In the future, instructors will be able to contribute new dataset examples, code snippets, and modules. These resources will be interchangable and can be shared with the community."
      ]
    }
  ],
  "metadata": {
    "colab": {
      "name": "Instructor Guide",
      "provenance": [],
      "include_colab_link": true
    },
    "kernelspec": {
      "display_name": "Python 3",
      "name": "python3"
    },
    "language_info": {
      "codemirror_mode": {
        "name": "ipython",
        "version": 3
      },
      "file_extension": ".py",
      "mimetype": "text/x-python",
      "name": "python",
      "nbconvert_exporter": "python",
      "pygments_lexer": "ipython3",
      "version": "3.9.0"
    }
  },
  "nbformat": 4,
  "nbformat_minor": 0
}