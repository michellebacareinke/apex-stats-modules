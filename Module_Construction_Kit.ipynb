{
  "cells": [
    {
      "cell_type": "markdown",
      "metadata": {
        "id": "view-in-github",
        "colab_type": "text"
      },
      "source": [
        "<a href=\"https://colab.research.google.com/github/vectrlab/apex-stats-modules/blob/main/Module_Construction_Kit.ipynb\" target=\"_parent\"><img src=\"https://colab.research.google.com/assets/colab-badge.svg\" alt=\"Open In Colab\"/></a>"
      ]
    },
    {
      "cell_type": "markdown",
      "metadata": {
        "id": "qzN20j7kdyqy"
      },
      "source": [
        "# APEX STATS Module Construction Kit\n",
        "Module by [Your Name]\n",
        "\n",
        "Based on APEX STATS by David Schuster with code by Andy Qui Le\n",
        "\n",
        "Licensed under CC BY-NC-SA\n",
        "\n",
        "Release 1.0"
      ]
    },
    {
      "cell_type": "markdown",
      "metadata": {
        "id": "XG8yLKv4_cTv"
      },
      "source": [
        "## I. Start  Here\n",
        "\n",
        "This **Module Construction Kit** is a template notebook that you can use to build your own module.\n",
        "\n",
        "First, make sure you are viewing this in Google Collab. Once in Collab, click the File menu, then \"Save a Copy in Drive\" to make a copy of this module on your Google Drive. You can also save to your Github account.\n",
        "\n",
        "Once you save a copy, you can double-click on each text box to replace the text with your own. We recommend maintaining the existing sections for consistency with existing modules. You can also use these resources to build modules from scratch.\n",
        "\n",
        "Start by editing this text cell to include your introductory text.\n",
        "\n",
        "Arrows (<font color=\"red\">➡</font>) indicate something for you to do as you work through this notebook. The first thing you should do is to save a copy.\n",
        "\n",
        "###<font color=\"red\">➡</font> Save a Copy###\n",
        "This notebook is \"view only,\" meaning that you can view it, but you cannot save any changes. To create your own editable copy, look towards the top of the notebook and click on `Copy to Drive`. This will cause a new tab to open with your own personal copy of the notebook. \n",
        "\n",
        "If you want to refer back to your copy in the future, you can find it in Google Drive in a folder called `Colab Notebooks`. Specifically, your copy of this notebook will be called: \"Copy of APEX STATS Module\"\n",
        "\n",
        "Once finished, share your completed notebook with your intructor using the *Share* button at the upper right.\n",
        "\n",
        "###<font color=\"red\">➡</font> No, Really, Save a Copy###\n",
        "\n",
        "Hi again. We are double-checking that you saved a copy of this notebook before you continue. We want your work to be safely saved!\n",
        "\n",
        "---"
      ]
    },
    {
      "cell_type": "markdown",
      "source": [
        "## II. Background\n",
        "\n",
        "You can provide any background reading, links, or assignments here. While you are here, there are a few formatting marks that are useful: \n",
        "\n",
        "- You can use '##' on a new line to specify a heading, and use '###' on a new line to specify a subheading. We recommend numbering your headings manually, which will make it easier to navigate the document and point students to specific sections.\n",
        "- Lists will get formatted automatically, too. You can start each line with a number for a numbered list, or you can start each line with an asterisk or hyphen to create a bulleted list.\n",
        "- Put two asterisks around text to **bold it** and put one around text to *italicize it*.\n",
        "\n",
        "The following background is recommended before starting this module:\n",
        "\n",
        "1. **Welcome to Colab** If you have not worked through the <a href=\"https://colab.research.google.com/drive/1zTk_n6BL8Tvdhaufq_FYNXK0dbvGKnxX?usp=sharing\">Welcome to Colab notebook yet</a>, you should do that first.\n",
        "\n",
        "### Learning Outcomes\n",
        "\n",
        "If you are aligning your materials to a standard or resource (like California's C-ID), then it is helpful to mention that here.\n",
        "\n",
        "Upon successful completion of the module, you will be able to:  \n",
        "\n",
        "* Build your own module\n",
        "\n",
        "Next, read through the activity and follow the steps indicated by the arrows.\n"
      ],
      "metadata": {
        "id": "GoeczcnBeLs_"
      }
    },
    {
      "cell_type": "markdown",
      "metadata": {
        "id": "MlhZ2oy-dyq6"
      },
      "source": [
        "## III. Activity\n",
        "\n",
        "Provide the interactive portion of your module in this section."
      ]
    },
    {
      "cell_type": "markdown",
      "metadata": {
        "id": "E4YT45kzzW5v"
      },
      "source": [
        "### 1. Get data\n",
        "\n",
        "We recommend numbering the sections of your activity.\n",
        "\n",
        "Begin your activity by loading a APEX STATS dataset from the dataset library. Here, the *fifa19* example is used. You can edit the code and change *fifa19* to any of the other folder names from the <a href=\"https://github.com/vectrlab/apex-stats-datasets/\">dataset library</a>."
      ]
    },
    {
      "cell_type": "markdown",
      "source": [
        "###<font color=\"red\">➡</font> Run the cell###\n",
        "\n",
        "To run the cell, click on it, and then you can either simultaneously hit `Shift` + `Enter`, or you can click the play button to the left of the cell.\n",
        "\n",
        "After you click it, you should see the text \"The data were loaded\" and a preview of the data. If you see that, continue to the next section. If you come back to this notebook later, you will need to rerun this cell to load the data again.\n",
        "\n",
        "If you see the text \"There was a problem loading the data,\" then the most likely explanation is a bug that is our fault. Let your instructor know the notebook is not working properly."
      ],
      "metadata": {
        "id": "fQ-qMaS0frQP"
      }
    },
    {
      "cell_type": "code",
      "execution_count": null,
      "metadata": {
        "id": "vAiUnZXYdyq6"
      },
      "outputs": [],
      "source": [
        "# Setup Example Data\n",
        "\n",
        "# import library\n",
        "import pandas as pd \n",
        "# read the data file\n",
        "data = pd.read_csv(\"https://raw.githubusercontent.com/vectrlab/apex-stats-datasets/main/fifa19/example.csv\") \n",
        "# display the data\n",
        "data "
      ]
    },
    {
      "cell_type": "markdown",
      "metadata": {
        "id": "1bWJbI6sdyq8"
      },
      "source": [
        "### 2. Create the sections of your activity.\n",
        "\n",
        "When you imported the data in the block above, you should have seen a preview of it in this notebook. Now that data are loaded, you can use them throughout the notebook.\n",
        "\n",
        "Every dataset example will have, at minimum, a  variable called `data[\"x\"]`. The idea is that if you only need to use one variable, you can use that one. If you need a second variable, it will be called `data[\"y\"]`.\n",
        "\n",
        "In the fifa19 example, the variables are:\n",
        "\n",
        "- `data[\"y\"]`: Wage in thousands of Euros\n",
        "- `data[\"x\"]`: Age in years\n",
        "- `data[\"x1\"]`: Heading Accuracy (0-100, with higher numbers indicating more accuracy) \n",
        "- `data[\"x2\"]`: Dribbling rating (0-100, with higher numbers indicating more accuracy)\n",
        "- `data[\"x3\"]`: Agility rating (0-100, with higher numbers indicating more accuracy)\n",
        "- `data[\"x4\"]`: Shot Power rating (0-100, with higher numbers indicating more accuracy)\n",
        "- `data[\"x5\"]`: Jersey Number\n",
        "- `data[\"x6\"]`: Position (abbreviated)\n",
        "- `data[\"x7\"]`: Name\n",
        "- `data[\"x8\"]`: Club\n"
      ]
    },
    {
      "cell_type": "markdown",
      "source": [
        "### <font color=\"red\">➡</font> Write the code and run the cell###\n",
        "\n",
        "To try this out, preview `data[\"x\"]` by copying and pasting it in the box below. The first value displayed should be for Lionel Messi, who was 31 in 2019.\n",
        "\n",
        "Run the cell below by  clicking on it, and then you can either simultaneously hit `Shift` + `Enter`, or you can click the play button to the left of the cell."
      ],
      "metadata": {
        "id": "APOfjzANf3Zg"
      }
    },
    {
      "cell_type": "code",
      "execution_count": null,
      "metadata": {
        "id": "qv2DSj8hdyq9"
      },
      "outputs": [],
      "source": [
        "# enter data[\"x\"] on its own line in this box, and run it to see a list of player ages\n",
        "\n"
      ]
    },
    {
      "cell_type": "markdown",
      "metadata": {
        "id": "UK5Y00GVdyq9"
      },
      "source": [
        "### 3. Create additional code and text blocks\n",
        "\n",
        "You can continue to build your module using text and code blocks. This is a text block.\n",
        "\n",
        "You can use any code from the <a href=\"https://github.com/vectrlab/apex-stats-snippets/\">snippet library</a>. Create a new code block, then copy and paste any code snippet into it. "
      ]
    },
    {
      "cell_type": "markdown",
      "source": [
        "\n",
        "###<font color=\"red\">➡</font> Run the cell###\n",
        "\n",
        "Below, we copied a snippet that finds the population size for x.\n",
        "\n",
        "To run the cell, click on it, and then you can either simultaneously hit `Shift` + `Enter`, or you can click the play button to the left of the cell. You will see a single number."
      ],
      "metadata": {
        "id": "BaqzcGsHhDEC"
      }
    },
    {
      "cell_type": "code",
      "execution_count": null,
      "metadata": {
        "id": "3z61pGazdyq-"
      },
      "outputs": [],
      "source": [
        "# Population size\n",
        "\n",
        "len(data[\"x\"])"
      ]
    },
    {
      "cell_type": "markdown",
      "metadata": {
        "id": "1cQ28qHfdyrD"
      },
      "source": [
        "As you get more comfortable with Python, you may want to write your own code blocks. If you share them with the APEX community, we can add them to the snippet library."
      ]
    },
    {
      "cell_type": "markdown",
      "metadata": {
        "id": "OIfipcM8dyrL"
      },
      "source": [
        "###<font color=\"red\">➡</font> Write the code and run the cell###\n",
        "\n",
        "You can also create code blocks that are incomplete. Do this when you want to leave an opportunity for your students to modify the code or write their own:"
      ]
    },
    {
      "cell_type": "code",
      "execution_count": null,
      "metadata": {
        "id": "nJ1hZCrAdyrM"
      },
      "outputs": [],
      "source": [
        "# Write code to find the population size of data[\"y\"]\n",
        "\n"
      ]
    },
    {
      "cell_type": "markdown",
      "metadata": {
        "id": "IQhmd6wFdyrV"
      },
      "source": [
        "----\n",
        "## IV. Summary\n",
        "\n",
        "- Provide a bulleted list of major concepts covered in the module.\n",
        "- For example, this barebones module introduced you to the modular APEX STATS resources."
      ]
    },
    {
      "cell_type": "markdown",
      "metadata": {
        "id": "W06oS8QQdyrW"
      },
      "source": [
        "---\n",
        "## V. All done, congrats! \n",
        "\n",
        "We hope you find the Module Construction Kit useful and value your feedback. If you would rather use <a href=\"https://github.com/vectrlab/apex-stats-modules/\">premade modules</a>, those are also available. We conclude by showing how you can embed images in your module:\n",
        "\n",
        "<img src=\"https://live.staticflickr.com/3471/3904325807_8ab0190152_b.jpg\" alt=\"High-five!\" width=\"100\"/>\n",
        "\n",
        "[\"High-five!\"](https://live.staticflickr.com/3471/3904325807_8ab0190152_b.jpg) by Nick J Webb is licensed under CC BY 2.0"
      ]
    }
  ],
  "metadata": {
    "colab": {
      "collapsed_sections": [],
      "name": "Codebase-Module.ipynb",
      "private_outputs": true,
      "provenance": [],
      "include_colab_link": true
    },
    "kernelspec": {
      "display_name": "Python 3",
      "language": "python",
      "name": "python3"
    },
    "language_info": {
      "codemirror_mode": {
        "name": "ipython",
        "version": 3
      },
      "file_extension": ".py",
      "mimetype": "text/x-python",
      "name": "python",
      "nbconvert_exporter": "python",
      "pygments_lexer": "ipython3",
      "version": "3.8.5"
    }
  },
  "nbformat": 4,
  "nbformat_minor": 0
}