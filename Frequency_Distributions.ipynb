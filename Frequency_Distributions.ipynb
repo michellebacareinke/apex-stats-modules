{
  "cells": [
    {
      "cell_type": "markdown",
      "metadata": {
        "colab_type": "text",
        "id": "view-in-github"
      },
      "source": [
        "<a href=\"https://colab.research.google.com/github/vectrlab/apex-stats-modules/blob/main/Frequency_Distributions.ipynb\" target=\"_parent\"><img src=\"https://colab.research.google.com/assets/colab-badge.svg\" alt=\"Open In Colab\"/></a>"
      ]
    },
    {
      "cell_type": "markdown",
      "metadata": {
        "id": "qzN20j7kdyqy"
      },
      "source": [
        "# APEX STATS Frequency Distributions\n",
        "Module by David Schuster with code by Andy Qui Le with thanks to Sarah Ghannadan for usability improvements\n",
        "\n",
        "Licensed under CC BY-NC-SA\n",
        "\n",
        "Release 1.0"
      ]
    },
    {
      "cell_type": "markdown",
      "metadata": {
        "id": "XG8yLKv4_cTv"
      },
      "source": [
        "<img src=\"https://www.publicdomainpictures.net/pictures/260000/velka/soccer-football-player-american.jpg\" width=\"400\"/>\n",
        "\n",
        "Image credit: [\"Soccer, Football Player, American\"](https://www.publicdomainpictures.net/en/view-image.php?image=257368&picture=soccer-football-player-american) in the public domain\n",
        "\n",
        "### <font color=\"red\">➡</font> 1. Save a Copy ###\n",
        "\n",
        "This notebook is \"view only,\" meaning that you can view it, but you cannot save any changes. To create your own editable copy, look towards the top of the notebook and click on `Copy to Drive`. This will cause a new tab to open with your own personal copy of the notebook. \n",
        "\n",
        "If you want to refer back to your copy in the future, you can find it in Google Drive in a folder called `Colab Notebooks`. Specifically, your copy of this notebook will be called: \"Copy of APEX STATS Module\" unless you rename it.\n",
        "\n",
        "### <font color='red'>➡</font> 2. Change the File Name ####\n",
        "* After you saved your own copy, click into the title at the top of the webpage and **delete** the words \"Copy of\". \n",
        "* At the end of the title **insert a hyphen \"-\"** and then add your **name** according to your instructor's directions. For example, Lab 3 - Frequency Distributions - Smith, Jane.\n",
        "* This will make it easier for your instructor to find your work.\n",
        "\n",
        "### <font color='red'>➡</font> 3. Change Notebook Settings ####\n",
        "\n",
        "Change your notebook settings so your outputs get saved. Watch the 45-second video that shows you how: http://somup.com/c3Qr0sU54S \n",
        "\n",
        "Complete the following:\n",
        "\n",
        "*   At the top of the webpage, click the **Notebook Settings** link. Or you can go to **EDIT** on the menu, then select \"Notebook Settings\".\n",
        "*   **Uncheck the checkbox** for \"Omit code cell output when saving this notebook\". \n",
        "![colab notebook settings.jpg](data:image/jpeg;base64,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)\n",
        "*   Click **Save**.\n",
        "\n",
        "### <font color='red'>➡</font> 4. Share with Your Instructor ####\n",
        "\n",
        "Once finished, share your completed notebook with your intructor using the *Share* button at the upper right.\n",
        "\n",
        "### Important Tip About Working With Colab ###\n",
        "\n",
        "Like Google Sheets, Google Colab will save as you go. If you walk away from your Colab Notebook for an extended period of time, you may need to run all your cells again in order to pick up where you left off.\n",
        "\n",
        "---"
      ]
    },
    {
      "cell_type": "markdown",
      "metadata": {
        "id": "fUNW3PsZ-3fz"
      },
      "source": [
        "## Part II. Background\n",
        "\n",
        "The following background is recommended before starting this module:\n",
        "\n",
        "1. **Descriptive stats in your course.** This module will work best if you have already covered distributions and histograms in your course. You may want to review your notes or textbook before starting this module.\n",
        "\n",
        "2. **Welcome to Colab** If you have not worked through the <a href=\"https://colab.research.google.com/drive/1zTk_n6BL8Tvdhaufq_FYNXK0dbvGKnxX?usp=sharing\">Welcome to Colab notebook yet</a>, you should do that first.\n",
        "\n",
        "### Learning Outcomes\n",
        "\n",
        "These exercises map onto several learning objective(s) for the C-ID descriptor for [Introduction to Statistics](https://c-id.net/descriptors/final/show/365). Upon successful completion of the course, you will be able to:  \n",
        "\n",
        "* LO 1: Interpret data displayed in tables and graphically\n",
        "* LO 5: Summarize and describe discrete distributions \n",
        "\n",
        "Next, read through the activity and follow the steps indicated by the arrows.\n"
      ]
    },
    {
      "cell_type": "markdown",
      "metadata": {
        "id": "MlhZ2oy-dyq6"
      },
      "source": [
        "## Part III. Activity\n",
        "\n",
        "The next section of this module involves a series of hands-on activities that use data on real soccer players in the International Federation of Association Football (FIFA). The data are from FIFA 19, a soccer videogame.\n"
      ]
    },
    {
      "cell_type": "markdown",
      "metadata": {
        "id": "Lui8-c_oU9Hh"
      },
      "source": [
        "### 1. Get data\n",
        "\n",
        "Before you can begin these exercises, you need to run the code cell below, which will import the FIFA file and create a dataframe (i.e., spreadsheet) named `data`. Once you run the cell, you will see a preview of the dataframe. Take note that it contains several columns (these will be descibed in the exercise).\n"
      ]
    },
    {
      "cell_type": "markdown",
      "metadata": {
        "id": "z6sQw2iky-Hr"
      },
      "source": [
        "###<font color=\"red\">➡</font> Run the cell###\n",
        "\n",
        "To run the cell, click on it, and then you can either simultaneously hit `Shift` + `Enter`, or you can click the play button to the left of the cell.\n",
        "\n",
        "After you click it, you should see the text \"The data were loaded\" and a preview of the data. If you see that, continue to the next section. If you come back to this notebook later, you will need to rerun this cell to load the data again.\n",
        "\n",
        "If you see the text \"There was a problem loading the data,\" then the most likely explanation is a bug that is our fault. Let your instructor know the notebook is not working properly."
      ]
    },
    {
      "cell_type": "code",
      "execution_count": null,
      "metadata": {
        "id": "vAiUnZXYdyq6"
      },
      "outputs": [],
      "source": [
        "# Setup Example Data\n",
        "\n",
        "# import library\n",
        "import pandas as pd \n",
        "# read the datafile\n",
        "data = pd.read_csv(\"https://raw.githubusercontent.com/vectrlab/apex-stats-datasets/main/fifa19/example.csv\") \n",
        "# handle data loading error\n",
        "try:\n",
        "    data\n",
        "    print(\"The data were loaded\")\n",
        "except NameError:\n",
        "    print(\"There was a problem loading the data.\")"
      ]
    },
    {
      "cell_type": "markdown",
      "metadata": {
        "id": "J3hGutSndGF4"
      },
      "source": [
        "###<font color=\"red\">➡</font> Run the cell###\n",
        "\n",
        "Next, we will generate a quick preview of the data you just loaded. Run the cell that follows. To run the cell, click on it, and then you can either simultaneously hit `Shift` + `Enter`, or you can click the play button to the left of the cell.\n",
        "\n",
        "After you run it, you should see a table with rows and columns. The rows are numbered starting with zero, and the columns are labeled y, x, x1, and so on. \n"
      ]
    },
    {
      "cell_type": "code",
      "execution_count": null,
      "metadata": {
        "id": "BEQFJwkddK_W"
      },
      "outputs": [],
      "source": [
        "data"
      ]
    },
    {
      "cell_type": "markdown",
      "metadata": {
        "id": "1bWJbI6sdyq8"
      },
      "source": [
        "### 2. Explore the population distribution\n",
        "\n",
        "Now that you have seen a preview, it is time to explore the dataframe! We will be using the following format to refer to each variable: \n",
        "`name of dataframe[\"column name\"]` \n",
        "\n",
        "Because our FIFA dataframe is named `data`, we will use notation like: `data[\"x7\"]`\n",
        "\n",
        "- `data[\"y\"]`: Wage in thousands of Euros\n",
        "- `data[\"x\"]`: Age in years\n",
        "- `data[\"x1\"]`: Heading Accuracy (0-100, with higher numbers indicating more accuracy) \n",
        "- `data[\"x2\"]`: Dribbling rating (0-100, with higher numbers indicating more accuracy)\n",
        "- `data[\"x3\"]`: Agility rating (0-100, with higher numbers indicating more accuracy)\n",
        "- `data[\"x4\"]`: Shot Power rating (0-100, with higher numbers indicating more accuracy)\n",
        "- `data[\"x5\"]`: Jersey Number\n",
        "- `data[\"x6\"]`: Position (abbreviated)\n",
        "- `data[\"x7\"]`: Name\n",
        "- `data[\"x8\"]`: Club\n",
        "\n",
        "It is very typical to have more variables in your dataframe than you plan to explore in a given sitting. In this module we will focus on players' ages, so the only variable we will need for now is `x`. We can ignore the other variables for the moment.\n",
        "\n",
        "The collection of all the values in variable `x` forms our **population distribution**, or collection of values from all members of our population of interest. Here, our population is players who appeared in FIFA 19. \n",
        "\n",
        "#### <font color=\"red\">➡</font> Paste the code and run the cell####\n",
        "To focus specifically on values in `data[\"x\"]`, copy and paste `data[\"x\"]` into the code cell below. **Important!** Make sure that you use lowercase x and not uppercase X, and that you include the brackets and quote marks, as well.\n",
        "\n",
        "The result will show you the first few players' ages (rows 0-4) as well as the last few players' ages (18202 - 18206). If you're curious, the first value displayed is for Lionel Messi, who was 31 in 2019.\n"
      ]
    },
    {
      "cell_type": "code",
      "execution_count": null,
      "metadata": {
        "id": "qv2DSj8hdyq9"
      },
      "outputs": [],
      "source": [
        "\n"
      ]
    },
    {
      "cell_type": "markdown",
      "metadata": {
        "id": "UK5Y00GVdyq9"
      },
      "source": [
        "### 3. Population size\n",
        "\n",
        "Python only showed you the first and last few rows of the data. How many players are in this data file? While we could open the data file in a spreadsheet program and scroll to the bottom to look, we have a faster way. We can use Python to find the **population size**, or the number of scores in the distribution. Python calls this the length of the variable, so we use a function called `len()`.\n",
        "\n",
        "#### <font color=\"red\">➡</font> Run the cell####\n",
        "\n",
        "Run the cell below to find the answer! Run the cell below by clicking on it, and then you can either simultaneously hit `Shift` + `Enter`, or you can click the play button to the left of the cell.\n"
      ]
    },
    {
      "cell_type": "code",
      "execution_count": null,
      "metadata": {
        "id": "3z61pGazdyq-"
      },
      "outputs": [],
      "source": [
        "# Population size\n",
        "len(data[\"x\"])"
      ]
    },
    {
      "cell_type": "markdown",
      "metadata": {
        "id": "GBzSK7N3dyq-"
      },
      "source": [
        "### <font color=\"red\">➡</font> Answer the following questions ###\n",
        "\n",
        "Text like this is also in a cell. Double click right here to edit this text cell. Then, type your answers to each question below the question. When finished, press `Shift` + `Enter` and you will see your answers in the notebook.\n",
        "\n",
        "-Q1. Was the population size more or less than you expected? By how much?\n",
        "\n",
        "* \n",
        "\n",
        "-Q2. When would it be faster to use the `len()` function, and when would it be faster to open the data file in a spreadsheet? \n",
        "\n",
        "*  \n",
        " \n",
        "-Q3. Does the population size tell you anything about the typical age of a player? Explain why or why not.\n",
        "\n",
        "* \n",
        "\n",
        "-Q4. Based only on the preview you saw, what would you estimate is the typical age of a player?\n",
        "\n",
        "* "
      ]
    },
    {
      "cell_type": "markdown",
      "metadata": {
        "id": "_Pqew7Czdyq-"
      },
      "source": [
        "### 4. Frequency\n",
        "\n",
        "As you saw, we have several thousand players in the distribution. If we want to summarize the ages of players, we cannot simply list all the values. We need to summarize the distribution. The first way we will summarize the distribution is by reporting the **frequency distribution**. **Frequency** is a simple concept; it means a count of the number of times a value occcurs. In our case, we want to count how many times each age occurs.\n",
        "\n",
        "A list of the frequencies for all values in a distribution is called the frequency distribution. Whenever you see the word frequency, think count.\n",
        "\n"
      ]
    },
    {
      "cell_type": "markdown",
      "metadata": {
        "id": "MWNjbtxH2PF2"
      },
      "source": [
        "### <font color=\"red\">➡</font> Run the cell###\n",
        "\n",
        "Run the cell below by  clicking on it, and then you can either simultaneously hit `Shift` + `Enter`, or you can click the play button to the left of the cell.\n",
        "\n",
        "When you run this code, a frequency table will be generated with three columns. We only need to look at the middle and right column. The middle column will list all of the values in the distribution. The right colujmn will list the frequency of each value."
      ]
    },
    {
      "cell_type": "code",
      "execution_count": null,
      "metadata": {
        "id": "GauWx5FXdyq_"
      },
      "outputs": [],
      "source": [
        "# Generate Frequency Table \n",
        "import numpy as np\n",
        "\n",
        "# create two arrays, one is a set of values, and \n",
        "# the other indicates the occurences of each value\n",
        "unique_vals, occurrences = np.unique(data['x'], return_counts=True) \n",
        "# create a python dictionary object \n",
        "# whose keys are names of columns and \n",
        "# values are the pandas series above\n",
        "freq_dist_dict = { \n",
        "    \"Value\": pd.Series(unique_vals),\n",
        "    \"Frequency\": pd.Series(occurrences),\n",
        "} \n",
        "# frequency distribution table\n",
        "freq_table = pd.DataFrame(freq_dist_dict) \n",
        "# display the table\n",
        "freq_table "
      ]
    },
    {
      "cell_type": "markdown",
      "metadata": {
        "id": "nnxMswl9dyq_"
      },
      "source": [
        "### <font color=\"red\">➡</font> Answer the following questions ###\n",
        "\n",
        "Text like this is also in a cell. Double click right here to edit this text cell. Then, type your answers to each question below the question. When finished, click outside the cell, and you will see your answers in the notebook.\n",
        "\n",
        "\n",
        "-Q5. What was the frequency of 28 years?\n",
        "\n",
        "* \n",
        "\n",
        "-Q6. Do all ages have the same frequency?\n",
        "\n",
        "* \n",
        "\n",
        "-Q7. Which age(s) had the highest frequency? \n",
        "\n",
        "* \n",
        "\n",
        "-Q8. Which age(s) had the lowest frequency?\n",
        "\n",
        "* \n"
      ]
    },
    {
      "cell_type": "markdown",
      "metadata": {
        "id": "YSZuH_XNdyrB"
      },
      "source": [
        "### 5. Visualize the population\n",
        "\n",
        "Exploring a data set through frequency tables can certainly be useful, but you probably heard the phrase \"a picture is worth a thousand words.\" Indeed, visualizing data can be hugely helpful, and this is exactly what you will do for the next few exercises.\n",
        "\n",
        "A **histogram** gives us a visual representation of a frequency distribution. The key to understanding histograms is to remember that they always have **frequency** plotted on the y-axis (vertical) and the values plotted on the x-axis (horizontal). \n",
        "\n",
        "For this exercise, you will create a histogram representing the distrubtion of player ages in our data set. You can even choose which color you would like the histogram to be!\n",
        "\n",
        "Run the cell below, and enter the name of a color when prompted. You will see player age represented on the x-axis and counts on the y-axis.\n",
        "\n",
        "If you see something about a ValueError or RGBA arguments, do not be concerned. It means Python did not understand the color you entered. Run the code again, and try a different color name.\n"
      ]
    },
    {
      "cell_type": "code",
      "execution_count": null,
      "metadata": {
        "id": "MFCsirKUdyrC"
      },
      "outputs": [],
      "source": [
        "# Histogram with automatic binning and custom color\n",
        "# color names that work should include \n",
        "# https://matplotlib.org/stable/gallery/color/named_colors.html\n",
        "\n",
        "# import library\n",
        "import seaborn as sns \n",
        "# get user input for color\n",
        "custom_color = input(\"Type the name of a color : \") \n",
        "# display the histogram\n",
        "sns.histplot(data[\"x\"], color = custom_color, binwidth = 5) "
      ]
    },
    {
      "cell_type": "markdown",
      "metadata": {
        "id": "8XtW72oUdyrC"
      },
      "source": [
        "### <font color=\"red\">➡</font> Answer the following questions ###\n",
        "\n",
        "Text like this is also in a cell. Double click right here to edit this text cell. Then, type your answers to each question below the question. When finished, click outside the cell, and you will see your answers in the notebook.\n",
        "\n",
        "-Q9. How would you describe the shape of this distribution?\n",
        "\n",
        "* \n",
        "\n",
        "-Q10. What is the **bin width** or **bin size**? In other words, what is the interval (i.e., span of years) represented by the width of one bar?\n",
        "\n",
        "* \n",
        "\n",
        "-Q11. How would the histogram change if the bin width was set to 50 years?\n",
        "\n",
        "* \n",
        "\n",
        "-Q12. Which age group had the highest frequency? How did you know?\n",
        "\n",
        "* \n"
      ]
    },
    {
      "cell_type": "markdown",
      "metadata": {
        "id": "v-TrOJV8dyrE"
      },
      "source": [
        "### 6. When is the histogram meaningful?\n",
        "\n",
        "Histograms are visualizations of continuous, quantitative data. You can see how some of the meaning of the histogram is lost when we use qualitative data. We will create a histogram of player positions."
      ]
    },
    {
      "cell_type": "markdown",
      "metadata": {
        "id": "d-Y6uAv02XUD"
      },
      "source": [
        "### <font color=\"red\">➡</font> Run the cell###\n",
        "\n",
        "Run the cell below by  clicking on it, and then you can either simultaneously hit `Shift` + `Enter`, or you can click the play button to the left of the cell.\n",
        "\n",
        "When you run this code, a histogram will be generated be generated with many columns."
      ]
    },
    {
      "cell_type": "code",
      "execution_count": null,
      "metadata": {
        "id": "5sqkUc3EdyrE"
      },
      "outputs": [],
      "source": [
        "# Histogram with automatic binning and color\n",
        "import seaborn as sns \n",
        "\n",
        "# Plot the histogram using column 'x6'\n",
        "sns.histplot(data[\"x6\"]) "
      ]
    },
    {
      "cell_type": "markdown",
      "metadata": {
        "id": "Qybd5tUUdyrF"
      },
      "source": [
        "When we tried to make a histogram of player positions, there were a few problems. First, we cannot use binning, so there are a lot of values along the x-axis, which makes it hard to read them. Next, the order of the positions is arbitrary. As it turns out, the order of the values matters in the histogram, because this is what gives the graph a shape. Later on, we will find it useful to talk about the shape of a distribution. In all, histograms are useful for quantiative data only."
      ]
    },
    {
      "cell_type": "markdown",
      "metadata": {
        "id": "4Yg4ztFhdyrF"
      },
      "source": [
        "### 7. Summarizing discrete distributions\n",
        "\n",
        "Age is a continuous, quantitative variable. We can also summarize and visualize discrete variables, like the club and jersey number. Club is a nominal variable because the values (the club names) are category labels. Because the values are words, it seems obvious that the club is not a quantitative variable. However, this also applies to the jersey number. Even though jerseys are labeled with numbers, they are still nominal variables. Higher jersey numbers do not indicate more of anything. Adding two jersey numbers together does not result in a meaningful number.\n",
        "\n",
        "Discrete distributions are not appropriate for histograms, especially when the order of the scores is aribtrary (which club goes first? second? last?). Such a graph does not have a shape.\n",
        "\n",
        "If the variable is discrete, a **bar graph** is constructed the same way but includes an equal space in between each bar. This emphasizes the discrete nature of the data. Bar graphs are useful summaries, but they do not have a shape like a histogram would. A variation on the bar graph is a **Pareto chart**, which orders the bars from tallest (highest frequency) to smallest (lowest frequency), leaving an equal space between each bar. But even if we follow this convention, the graph is not technically a histogram. That said, it shows frequencies, just like a histogram.\n",
        "\n",
        "Next, we generate bar plots for player position (`data[\"x6\"]`) and Jersey Number (`data[\"x5\"]`)."
      ]
    },
    {
      "cell_type": "markdown",
      "metadata": {
        "id": "jB7_gGSn2ocB"
      },
      "source": [
        "### <font color=\"red\">➡</font> Run the cell###\n",
        "\n",
        "Run the next cell below by  clicking on it, and then you can either simultaneously hit `Shift` + `Enter`, or you can click the play button to the left of the cell.\n",
        "\n",
        "When you run this code, the first of two bar plots will be generated. This first one is a bar plot of player positions."
      ]
    },
    {
      "cell_type": "code",
      "execution_count": null,
      "metadata": {
        "id": "rLlAUpMNdyrF"
      },
      "outputs": [],
      "source": [
        "# Bar Plot aka Count Plot (Vertical)\n",
        "import seaborn as sns\n",
        "import matplotlib.pyplot as plt\n",
        "\n",
        "plt.figure(figsize=(15,8))\n",
        "sns.set_theme(style=\"darkgrid\")\n",
        "ax = sns.countplot(x=\"x6\", data=data,\n",
        "                   palette=\"Set1\") \n",
        "\n",
        "# style parameter of set_theme method can be \n",
        "# darkgrid, whitegrid, dark, white, and ticks as args\n",
        "# palette can be Set1, Set2, or Set3"
      ]
    },
    {
      "cell_type": "markdown",
      "metadata": {
        "id": "PgeLWgZvSe__"
      },
      "source": [
        "### <font color=\"red\">➡</font> Run the cell###\n",
        "\n",
        "Run the next cell below by  clicking on it, and then you can either simultaneously hit `Shift` + `Enter`, or you can click the play button to the left of the cell.\n",
        "\n",
        "When you run this code, our second bar plot will be generated. This second one is a bar plot of jersey numbers.\n",
        "\n",
        "Because there are so many jersey numbers, we have changed the code to make the box plot horizontal instead of vertical. The information is the same. Instead of frequency on the y-axis, like it usually is, frequency is now on the x-axis.\n"
      ]
    },
    {
      "cell_type": "code",
      "execution_count": null,
      "metadata": {
        "id": "oxZQMxr2dyrG"
      },
      "outputs": [],
      "source": [
        "# Bar Plot aka Count Plot (Horizontal)\n",
        "import seaborn as sns\n",
        "import matplotlib.pyplot as plt\n",
        "\n",
        "plt.figure(figsize=(8,15))\n",
        "sns.set_theme(style=\"darkgrid\")\n",
        "ax = sns.countplot(y=\"x5\", data=data,\n",
        "                   palette=\"Set1\") \n",
        "\n",
        "# style parameter of set_theme method can be \n",
        "# darkgrid, whitegrid, dark, white, and ticks as args\n",
        "# palette can be Set1, Set2, or Set3"
      ]
    },
    {
      "cell_type": "markdown",
      "metadata": {
        "id": "7Ywqh6g3dyrG"
      },
      "source": [
        "### <font color=\"red\">➡</font> Answer the following questions ###\n",
        "\n",
        "Text like this is also in a cell. Double click right here to edit this text cell. Then, type your answers to each question below the question. When finished, click outside the cell, and you will see your answers in the notebook.\n",
        "\n",
        "-Q13. What do the bar chart and the histogram have in common?\n",
        "\n",
        "* \n",
        "\n",
        "-Q14. Which group is more frequent, jersey numbers below 30 or jersey numbers above 30? How do you know?\n",
        "\n",
        "* \n",
        "-Q15. Which position was the most frequent in FIFA 19?\n",
        "\n",
        "* \n"
      ]
    },
    {
      "cell_type": "markdown",
      "metadata": {
        "id": "1YmXXJ5odyrW"
      },
      "source": [
        "----\n",
        "## Part IV. Summary\n",
        "\n",
        "- In this module, we introduced fundamental and useful tools for making sense out of distributions.\n",
        "- You saw how you can use Python code to load data, generate a frequency table, and then represent the frequencies in a histogram."
      ]
    },
    {
      "cell_type": "markdown",
      "metadata": {
        "id": "W06oS8QQdyrW"
      },
      "source": [
        "---\n",
        "## Part V. All done, congrats! \n",
        "\n",
        "Today, not only did you learn about describing and visualizing data, but you also learned how to write some Python code. High five!\n",
        "\n",
        "\n",
        "<img src=\"https://live.staticflickr.com/3471/3904325807_8ab0190152_b.jpg\" alt=\"High-five!\" width=\"100\"/>\n",
        "\n",
        "[\"High-five!\"](https://live.staticflickr.com/3471/3904325807_8ab0190152_b.jpg) by Nick J Webb is licensed under CC BY 2.0"
      ]
    }
  ],
  "metadata": {
    "colab": {
      "collapsed_sections": [],
      "include_colab_link": true,
      "name": "APEX STATS Module",
      "private_outputs": true,
      "provenance": []
    },
    "kernelspec": {
      "display_name": "Python 3.9.6 64-bit",
      "language": "python",
      "name": "python3"
    },
    "language_info": {
      "codemirror_mode": {
        "name": "ipython",
        "version": 3
      },
      "file_extension": ".py",
      "mimetype": "text/x-python",
      "name": "python",
      "nbconvert_exporter": "python",
      "pygments_lexer": "ipython3",
      "version": "3.9.6"
    },
    "vscode": {
      "interpreter": {
        "hash": "31f2aee4e71d21fbe5cf8b01ff0e069b9275f58929596ceb00d14d90e3e16cd6"
      }
    }
  },
  "nbformat": 4,
  "nbformat_minor": 0
}
