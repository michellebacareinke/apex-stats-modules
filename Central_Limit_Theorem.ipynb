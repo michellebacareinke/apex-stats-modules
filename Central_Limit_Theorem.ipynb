{
  "cells": [
    {
      "cell_type": "markdown",
      "metadata": {
        "id": "view-in-github",
        "colab_type": "text"
      },
      "source": [
        "<a href=\"https://colab.research.google.com/github/vectrlab/apex-stats-modules/blob/main/Central_Limit_Theorem.ipynb\" target=\"_parent\"><img src=\"https://colab.research.google.com/assets/colab-badge.svg\" alt=\"Open In Colab\"/></a>"
      ]
    },
    {
      "cell_type": "markdown",
      "metadata": {
        "id": "HU5S-Y01vcDd"
      },
      "source": [
        "# APEX STATS Module: Central Limit Theorem\n",
        "Created by David Schuster, Valerie Carr, Morris Jones, and Andy Qui Le\n",
        "\n",
        "Licensed under CC BY-NC-SA\n",
        "\n"
      ]
    },
    {
      "cell_type": "markdown",
      "metadata": {
        "id": "XG8yLKv4_cTv"
      },
      "source": [
        "<img src=\"https://live.staticflickr.com/65535/49849273307_51fd13f9f4_b.jpg\" width=\"300\"/>\n",
        "\n",
        "Image credit: [\"Normal Distribution\"](https://live.staticflickr.com/65535/49849273307_51fd13f9f4_b.jpg) by Johnsyweb is licensed under CC BY-NC-ND 2.0\n",
        "\n",
        "## I. Intro and Learning Objectives\n",
        "So far, we have encountered population distributions and sample distributions. Now, we introduce a third kind of distribution, one that is created when we take repeated random samples. This third kind of distribution is called a **sampling distribution**. Yes, sampling distribution sounds very close to sample distribution. They sound so similar, people often confuse them. But, they are different kinds of distributions. Sampling distributions have some interesting properties that are important to understanding inferential statistics. \n",
        "\n",
        "These exercises map onto several learning objective(s) for the C-ID descriptor for [Introduction to Statistics](https://c-id.net/descriptors/final/show/365). Upon successful completion of the course, you will be able to:  \n",
        "\n",
        "(1) Interpret data displayed in tables and graphically  \n",
        "\n",
        "(3) Calculate measures of central tendency and variation for a given data set  \n",
        "\n",
        "(7) Distinguish the difference between sample and population distributions and analyze the role played by the Central Limit Theorem \n",
        "\n",
        "---"
      ]
    },
    {
      "cell_type": "markdown",
      "metadata": {
        "id": "fUNW3PsZ-3fz"
      },
      "source": [
        "## II. Background Reading\n",
        "\n",
        "Read through this section before starting this module and consider the questions that follow.\n",
        "\n",
        "In order to understand sampling distributions, we will first take a moment to discuss some of the underlying concepts: random sampling, sample size, population size, and sampling error. \n",
        "\n",
        "### Random Sampling\n",
        "\n",
        "Sampling is the process of selecting a group representative of the population. The best way to do this is to use **random sampling with replacement**. To take a random sample with replacement, the following conditions must be satisified:\n",
        "\n",
        "1. All units need to be available for selection. Usually, this means that you would need a list of all units in the population. The list units is called the **sampling frame**.\n",
        "2. The selection is unbiased; each unit has an equal chance of being selected. This is the random part.\n",
        "3. After a unit is selected, it is returned to the list. This is the replacement part; you are replacing the unit you selected by putting it back. This preserves the prior rule; every time selection is done, every unit has an equal chance of being selected.\n",
        "4. The random sample is composed of all the units that were selected in step 2. Therefore, not only does the process of selecting units need to be unbiased, the representation of units in the sample also needs to be unbiased.\n",
        "\n",
        "### Sample Size and Population Size\n",
        "The **size** of a distribution is the number of units it contains. In mathematics, sample size is typically represented as $n$ and population size is typically represented as $N$. In APA-style writing, however, sample size is represented as $N$, and $n$ is used to represent a subsample (a part of a sample, such as the units in one condition). There does not seem to be a recommended symbol for population size in APA style. Why not? Many times, the population size is unknown.\n",
        "\n",
        "### Sampling Error\n",
        "**Sampling error** is a mismatch between a sample statistic and a population parameter. Taking a single random sample does not guarantee perfect representation of a population. In this activity, we will create a population distribution, take a single random sample, and then compare the population and sample distributions. Let's start by focusing on creating and exploring a population distribution.\n",
        "\n",
        "\n",
        "### Discussion Questions\n",
        "\n",
        "1. Imagine you wanted to randomly sample (with replacement) the mood of fans of the winning team at a stadium. Describe one way you could create a sampling frame, a list of all members of a population.\n",
        "2. Describe how you would implement random selection.\n",
        "3. What does it mean to do the selection with replacement?\n",
        "4. Next, imagine you wanted to randomly sample the attitudes of commuters in your city. What are some challenges in creating a sampling frame?\n",
        "5. Imagine you had access to auto registration records for your city and participation from companies who provided lists of commuting employees. How might a sampling frame constructed this way be biased?\n",
        "4. Is there a conflict between informed consent and random sampling?\n",
        "5. Is it possible to determine the size of the following populations? If so, how? If not, why not?\n",
        "    * Students enrolled in your school this semester\n",
        "    * People staying in a hotel\n",
        "    * Passengers on a flight\n",
        "    * Adults in the United States\n",
        "    * Dogs living in your city\n",
        "6. APA is a format for statistical results used in Psychology and some other disciplines. If you were reading statistics in APA style, what would this mean? $N$ = 50, $n_1$ = 22, $n_2$ = 28"
      ]
    },
    {
      "cell_type": "markdown",
      "metadata": {
        "id": "n0wt8Rw7vcDi"
      },
      "source": [
        "## III. Activity\n",
        "\n",
        "This activity will use real data collected by the World Bank. In our data file, we have the 2018 life expectancy at birth, in years, for over 100 countries. Imagine that we want to understand the data for the included countries and only the included countries. If the included countries are the only ones we care about, then we can treat these data as a population. For the purpose of our example, we will treat these data as a population. However, if you wanted to define all countries as your population, the data file is a subset of all countries. Although it can be challenging that these data could either be a population or a sample, it illustrates that populations are defined by researchers. The population is the group of interest to the researcher.\n",
        "\n",
        "Set up this activity by running the code block below. This will import the data. Reminder: to run the cell, you can either use `Shift` + `Enter`, or you can hit the play button."
      ]
    },
    {
      "cell_type": "code",
      "execution_count": null,
      "metadata": {
        "id": "uzLmpP1VvcDi"
      },
      "outputs": [],
      "source": [
        "#Setup Example Data\n",
        "import pandas as pd # import library\n",
        "data = pd.read_csv(\"https://raw.githubusercontent.com/vectrlab/apex-python-datasets/main/healthnutritionandpopulation/example.csv\") # read the datafile\n",
        "data # display the data"
      ]
    },
    {
      "cell_type": "markdown",
      "metadata": {
        "id": "AOakGHY9vcDj"
      },
      "source": [
        "### 1. Explore the Population Distribution\n",
        "\n",
        "When you imported the data in the block above, you should have seen a preview of it in this notebook. You might have noticed that country names are in a variable called `data[\"Y\"]`, and the life expectancy appears in variables `data[\"X1\"]` through `data[\"X5\"]`. These correspond to the following variables:\n",
        "\n",
        "- `data[\"Y\"]`: Country name\n",
        "- `data[\"X\"]`: Life expectancy at birth in 2018, in years\n",
        "- `data[\"X1\"]`: Life expectancy at birth in 2008, in years (ten years earlier)\n",
        "- `data[\"X2\"]`: Life expectancy at birth in 1998, in years\n",
        "- `data[\"X3\"]`: Life expectancy at birth in 1988, in years\n",
        "- `data[\"X4\"]`: Life expectancy at birth in 1978, in years\n",
        "- `data[\"X5\"]`: Life expectancy at birth in 1968, in years\n",
        "\n",
        "Since we are focusing on life expectancy at birth in 2018, the only variable we will need for now is `X`. This is our population distribution.\n",
        "\n",
        "In the next few steps, we will find the population size, compute descriptive statistics for the population (which are called **population parameters**), and visualize the population.\n",
        "\n",
        "To start, preview `data[\"X\"]` by copying and pasting it in the box below. The first value displayed should be for Afghanistan, and it should be 64.833.\n"
      ]
    },
    {
      "cell_type": "code",
      "execution_count": null,
      "metadata": {
        "id": "Q87J-Tr3vcDk"
      },
      "outputs": [],
      "source": [
        "# enter data[\"X\"] on its own line in this box, and run it to see a list of 2018 life expectancies\n",
        "\n"
      ]
    },
    {
      "cell_type": "markdown",
      "metadata": {
        "id": "_9ufOr-BvcDl"
      },
      "source": [
        "### 2. Population size\n",
        "\n",
        "Next, how many countries are included in our population? This is the population size. Python calls this the length of the variable, so we use a function called `len()`."
      ]
    },
    {
      "cell_type": "code",
      "execution_count": null,
      "metadata": {
        "id": "sPICSHyavcDm"
      },
      "outputs": [],
      "source": [
        "#@title Population size\n",
        "len(data[\"X\"])"
      ]
    },
    {
      "cell_type": "markdown",
      "metadata": {
        "id": "-GsFGnlyvcDn"
      },
      "source": [
        "### 3. Population parameters\n",
        "\n",
        "For this exercise we want to determine the mean and standard deviation of the population. We will need these values for the next step. Let's start with the mean."
      ]
    },
    {
      "cell_type": "code",
      "execution_count": null,
      "metadata": {
        "id": "5s5TSoQ0vcDo"
      },
      "outputs": [],
      "source": [
        "#@title Population mean\n",
        "import numpy as np # import library\n",
        "np.mean(data[\"X\"]) # display the mean"
      ]
    },
    {
      "cell_type": "markdown",
      "metadata": {
        "id": "ZACzFHMevcDo"
      },
      "source": [
        "Next, let's determine the population standard deviation:"
      ]
    },
    {
      "cell_type": "code",
      "execution_count": null,
      "metadata": {
        "id": "T1TcwS6AvcDo"
      },
      "outputs": [],
      "source": [
        "#@title Population standard deviation\n",
        "import numpy as np # import library\n",
        "np.std(data[\"X\"]) # display the population standard deviation"
      ]
    },
    {
      "cell_type": "markdown",
      "metadata": {
        "id": "9yjUmF6CvcDp"
      },
      "source": [
        "You're doing great! These are the descriptive statistics for our **population distribution**."
      ]
    },
    {
      "cell_type": "markdown",
      "metadata": {
        "id": "FFVpooX3vcDp"
      },
      "source": [
        "### 4. Visualize the population\n",
        "\n",
        "Run the code below to generate a histogram of the population."
      ]
    },
    {
      "cell_type": "code",
      "execution_count": null,
      "metadata": {
        "id": "TUXHRnRivcDp"
      },
      "outputs": [],
      "source": [
        "#@title Generate a histogram with automatic binning and custom color\n",
        "# color names that work should include https://matplotlib.org/stable/gallery/color/named_colors.html\n",
        "import seaborn as sns # import library\n",
        "custom_color = input(\"Type the name of a color : \") # get user input\n",
        "sns.histplot(data[\"X\"], color = custom_color, binwidth = 1) # display the histogram"
      ]
    },
    {
      "cell_type": "markdown",
      "metadata": {
        "id": "gpN5V6qZvcDp"
      },
      "source": [
        "**⍰ Consider the following questions:**\n",
        "\n",
        "- Where is the population mean located on the histogram?\n",
        "- How would you explain the meaning of this population mean to someone?\n",
        "- What is the shape of the population distribution? Is it normal?\n",
        "- How does the standard deviation relate to the histogram?\n",
        "- What color do you prefer for your histogram?"
      ]
    },
    {
      "cell_type": "markdown",
      "metadata": {
        "id": "zJjC7MwbvcDq"
      },
      "source": [
        "----\n",
        "### 5. Explore a sample distribution\n",
        "\n",
        "Click the play button below to create a single sample of 5 values from the population distribution. We ask Python to pick five values at random from the population distribution. This creates a new **sample distribution** called `one_sample`."
      ]
    },
    {
      "cell_type": "code",
      "execution_count": null,
      "metadata": {
        "id": "xa8h5-56vcDq"
      },
      "outputs": [],
      "source": [
        "#@title Generate a random sample\n",
        "import random # import libraries\n",
        "import numpy as np\n",
        "n = 5 # sample size of 5\n",
        "one_sample = np.random.choice(data[\"X\"], n) # generate a single sample\n",
        "one_sample # show the sample distribution"
      ]
    },
    {
      "cell_type": "markdown",
      "metadata": {
        "id": "eNn3qh-9vcDq"
      },
      "source": [
        "Use the `len` function to determine how many values are in your sample, which is named `one_sample`. **Hint**: Your code will look identical to the population size, except you'll use `one_sample` as input, instead of `data[\"X\"]`.\n",
        "\n",
        "Based on the code above, you already know what the value is going to be. Make a prediction before you run the code."
      ]
    },
    {
      "cell_type": "code",
      "execution_count": null,
      "metadata": {
        "id": "CeonWWilvcDq"
      },
      "outputs": [],
      "source": [
        "#@title Sample size\n",
        "# Fix this code! len(data[\"X\"]) \n",
        "\n"
      ]
    },
    {
      "cell_type": "markdown",
      "metadata": {
        "id": "Z34DZC3ivcDr"
      },
      "source": [
        "Next, do the same modification with the `mean()` function to determine the mean of your sample. Before you do, make a prediction of the value."
      ]
    },
    {
      "cell_type": "code",
      "execution_count": null,
      "metadata": {
        "id": "fpt-B2uDvcDr"
      },
      "outputs": [],
      "source": [
        "#@title Sample mean\n",
        "import numpy as np # import library\n",
        "# Fix this code! np.mean(data[\"X\"]) # display the mean\n",
        "\n"
      ]
    },
    {
      "cell_type": "markdown",
      "metadata": {
        "id": "EKZ1BJORvcDr"
      },
      "source": [
        "And we will also use the function introduced earlier to find the standard deviation. However, we are finding the standard deviation of a sample distribution, so we need to use the sample standard deviation formula. Python lets us do that by adding `ddof=1`. You can run this block as-is."
      ]
    },
    {
      "cell_type": "code",
      "execution_count": null,
      "metadata": {
        "id": "sJBzPN0MvcDs"
      },
      "outputs": [],
      "source": [
        "#@title Sample standard deviation\n",
        "import numpy as np # import library\n",
        "np.std(onesample, ddof=1) # display the sample standard deviation; ddof is delta degrees of freedom and N - ddof is used in the variance calculation"
      ]
    },
    {
      "cell_type": "markdown",
      "metadata": {
        "id": "yD3mK7CWvcDs"
      },
      "source": [
        "Finally, run this block to create a histogram of your sample distribution. This time, you can modify the code yourself to change the color."
      ]
    },
    {
      "cell_type": "code",
      "execution_count": null,
      "metadata": {
        "id": "9YRkCJSNvcDs"
      },
      "outputs": [],
      "source": [
        "#@title Generate a histogram with automatic binning and custom color\n",
        "import seaborn as sns # import library\n",
        "custom_color = \"blue\" # set bar color\n",
        "sns.histplot(one_sample, color = custom_color, binwidth = 1) # display the histogram"
      ]
    },
    {
      "cell_type": "markdown",
      "metadata": {
        "id": "rBy7Bb0tvcDt"
      },
      "source": [
        "**⍰ Consider the following questions:**\n",
        "\n",
        "- What was the difference between the sample mean and population mean? \n",
        "\n",
        "- If random sampling was always perfect, the mean difference would be zero. Even when these values are randomly generated, we can be fairly confident the difference will not be zero. Why is your sample mean not exactly equal to your population mean?\n",
        "\n",
        "- How do the shapes of the two distributions compare?\n",
        "\n",
        "As you can see, a single sample was not perfect. But, sampling error is not all-or-nothing. Sometimes we can observe larger or smaller sampling error. In the next section, we will see how this works with a larger sample size.\n"
      ]
    },
    {
      "cell_type": "markdown",
      "metadata": {
        "id": "2sZNsNzxvcDt"
      },
      "source": [
        "### 6. Explore a larger sample distribution\n",
        "First, we’ll change our sample size from 5 to 900."
      ]
    },
    {
      "cell_type": "code",
      "execution_count": null,
      "metadata": {
        "id": "VD43qPHEvcDt"
      },
      "outputs": [],
      "source": [
        "#@title Generate a random sample\n",
        "import random # import libraries\n",
        "import numpy as np \n",
        "n = 900 # sample size of 900\n",
        "big_one_sample = np.random.choice(data[\"X\"], n) # generate a single sample\n",
        "big_one_sample # show the sample distribution"
      ]
    },
    {
      "cell_type": "markdown",
      "metadata": {
        "id": "9Ty-ATyHvcDu"
      },
      "source": [
        "You already know how to do the descriptives on this. To save you copy-and-paste time, this code is ready to run:"
      ]
    },
    {
      "cell_type": "code",
      "execution_count": null,
      "metadata": {
        "id": "JcpOtKbmvcDu"
      },
      "outputs": [],
      "source": [
        "#@title Sample size\n",
        "len(big_one_sample) "
      ]
    },
    {
      "cell_type": "code",
      "execution_count": null,
      "metadata": {
        "id": "4vHPG-ylvcDu"
      },
      "outputs": [],
      "source": [
        "#@title Sample mean\n",
        "import numpy as np # import library\n",
        "np.mean(big_one_sample) # display the mean"
      ]
    },
    {
      "cell_type": "code",
      "execution_count": null,
      "metadata": {
        "id": "zqvMQaeOvcDv",
        "cellView": "form"
      },
      "outputs": [],
      "source": [
        "#@title Sample standard deviation\n",
        "import numpy as np # import library\n",
        "np.std(big_one_sample, ddof=1) # display the sample standard deviation; ddof is delta degrees of freedom and N - ddof is used in the variance calculation"
      ]
    },
    {
      "cell_type": "code",
      "execution_count": null,
      "metadata": {
        "id": "RHrMvJt5vcDv"
      },
      "outputs": [],
      "source": [
        "#@title Generate a histogram with automatic binning and custom color\n",
        "import seaborn as sns # import library\n",
        "custom_color = \"blue\" # set bar color\n",
        "sns.histplot(big_one_sample, color = custom_color, binwidth = 1) # display the histogram"
      ]
    },
    {
      "cell_type": "markdown",
      "metadata": {
        "id": "O6KlEFEzvcDv"
      },
      "source": [
        "**⍰ Consider the following questions:**\n",
        "\n",
        "- What was the difference between the sample mean and population mean? Which had a bigger difference, `big_one_sample` or `one_sample`?\n",
        "\n",
        "- Looking across all the descriptives, which of the two samples, `big_one_sample` or `one_sample`, was more representative of the population. Why?"
      ]
    },
    {
      "cell_type": "markdown",
      "metadata": {
        "id": "7JfrQJyTvcDw"
      },
      "source": [
        "These exercises have shown us that samples have variability because populations have variability; the sample mean ultimately depends on which values get selected to be in the sample. The larger the sample size, the smaller the sampling error. \n",
        "\n",
        "Although we have not seen it yet, the greater the variability in the population, the larger the sampling error. In all, just two things affect sampling error: population standard deviation and sample size.\n",
        "\n",
        "### Discussion Questions\n",
        "Review the relationship between sampling error, sample size, population size, and population variability\n",
        "\n",
        "* How does sample size relate to sampling error?\n",
        "* How does population size relate to sampling error?\n",
        "* How does population variability relate to sampling error?\n",
        "* Next, we will expand this discussion to consider what would happen if we took repeated samples. That is, we will take one sample, then take another and another. Our units will be sample means instead of scores."
      ]
    },
    {
      "cell_type": "markdown",
      "metadata": {
        "id": "G2Lw5jxzvcDw"
      },
      "source": [
        "----\n",
        "### 7. Explore the Sampling Distribution\n",
        "A **sampling distribution** is a distribution of sample means. \n",
        "\n",
        "If you take repeated samples, you can plot the mean of each sample. A collection of sample means forms a sampling distribution of the mean. Sampling distributions are made of many samples.\n",
        "\n",
        "For this exercise, we'll create a sampling distribution based on a sample size of 5. In total, we'll take 2000 samples. Then, we will:\n",
        "1. Determine the mean and standard deviation of the sampling distribution\n",
        "2. Create a histogram of the sampling distribution\n",
        "3. Find the difference between the standard deviation of the sampling distribution and the calculated value of standard error\n",
        "\n",
        "### 8. Generate the Sampling Distribution\n",
        "Click the play button below to generate the sampling distribution. Specifically, this will sample from the population 2000 times, randomly choose 5 values each time, calculate the mean of the sample, and add it to the sampling distribution. "
      ]
    },
    {
      "cell_type": "code",
      "execution_count": null,
      "metadata": {
        "id": "ghKfQ5NBvcDw"
      },
      "outputs": [],
      "source": [
        "#@title Generate a sampling distribution\n",
        "import random # import libraries\n",
        "import numpy as np \n",
        "num_samples = 2000 # how many samples to include in the sampling distribution\n",
        "n = 5 # sample size\n",
        "def drange():\n",
        "  x = random.randrange(0, len(data[\"X\"]) - (n + 1)) # pick a random starting spot in the distribution\n",
        "  return slice(x, x + n) # select n values starting from that spot - Dave note: We may need to fix this, as the selection will be biased if data are in a nonrandom order\n",
        "sampling = [np.mean(data[\"X\"][drange()]) for x in range(num_samples)] # assemble the sampling distribution by finding means of repeated samples\n",
        "sampling # show the sampling distribution"
      ]
    },
    {
      "cell_type": "markdown",
      "metadata": {
        "id": "CF3YWCtnvcDx"
      },
      "source": [
        "### 9. Explore the sampling distribution\n",
        "\n",
        "Use NumPy's `mean` function to determine the mean of `sampling`:"
      ]
    },
    {
      "cell_type": "code",
      "execution_count": null,
      "metadata": {
        "id": "UpAKGmpTvcDx"
      },
      "outputs": [],
      "source": [
        "#@title Mean of the sampling distribution\n",
        "# Hint: The sampling distribution is called sampling\n",
        "\n"
      ]
    },
    {
      "cell_type": "markdown",
      "metadata": {
        "id": "MhN6fHvbvcDx"
      },
      "source": [
        "Next, use NumPy's `std` function to determine the standard deviation of `sampling`. Note that we need to use the population standard deviation in this case. This code is ready to run:"
      ]
    },
    {
      "cell_type": "code",
      "execution_count": null,
      "metadata": {
        "id": "GPjD1XhlvcDx"
      },
      "outputs": [],
      "source": [
        "#@title Sampling distribution standard deviation\n",
        "import numpy as np # import library\n",
        "np.std(sampling) # display the population standard deviation"
      ]
    },
    {
      "cell_type": "markdown",
      "metadata": {
        "id": "A8BDmspNvcDy"
      },
      "source": [
        "Finally, create a histogram of the sampling distribution using Seaborn's `histplot` function and `sampling` as your input."
      ]
    },
    {
      "cell_type": "code",
      "execution_count": null,
      "metadata": {
        "id": "eBav-rmvvcDy"
      },
      "outputs": [],
      "source": [
        "#@title Generate a histogram with automatic binning and custom color\n",
        "import seaborn as sns # import library\n",
        "custom_color = \"blue\" # set bar color\n",
        "sns.histplot(sampling, color = custom_color, binwidth = 1) # display the histogram"
      ]
    },
    {
      "cell_type": "markdown",
      "metadata": {
        "id": "yxgs62U6vcDy"
      },
      "source": [
        "**⍰ Consider the following questions:**\n",
        "\n",
        "- What was the difference between the **sampling** distribution mean and the **population** mean? Which mean was closest overall, `big_one_sample`, `one_sample`, or `sampling`?\n",
        "\n",
        "- What is the shape of the sampling distribution? How does the shape of your sampling distribution compare to your classmates'?"
      ]
    },
    {
      "cell_type": "markdown",
      "metadata": {
        "id": "OnPOn7VBvcDy"
      },
      "source": [
        "### 10. Section Review\n",
        "\n",
        "Some interesting things happened in this last exercise. Before we continue, make sure you understand the steps that you took to construct a sampling distribution:\n",
        "\n",
        "1. We started with a population distribution. The shape of the population distribution is not important (did you notice that all the populations were close to a uniform distribution? None of the populations were normally distributed). While we're at it, the population _size_ is also not important. This example would have worked with a population of 50 or a population of 300,000.\n",
        "2. We took a random sample from the population, with replacement. We found the mean of our random sample. \n",
        "3. We repeated Step 2 many times to create a list of 2000 sample means stored in a variable called `sampling`. This is our sampling distribution. **Sampling distributions are made of sample means**. Put another way, the units of a sampling distribution are sample means.\n",
        "\n",
        "What did you you notice when you look at the histogram of the sampling distribution? It should have been close to normally distributed! We started with a non-normal population and ended up with a normally distributed sampling distribution. This is one of the outcomes specified by the central limit theorem.\n",
        "\n",
        "What did you notice about the difference between the mean of the sampling distribution and the mean of the population? It should have been small. It should have been the smallest value of all the examples in this section. This is another outcome specified by the central limit theorem. As we collect more and more sample means, the mean of the sampling distribution will approach the mean of the population.\n",
        "\n",
        "Why is this useful? The tendency of repeated random samples to perfectly approximate the population they are drawn from says that even if a sample is not perfect (it has sampling error), we can use random samples to estimate population parameters. We also can predict how imperfect our samples are; the larger the sample and the lower the population standard deviation, the better we can rely on our single sample. This means we should be more skeptical when we see smaller sample sizes, samples of very diverse populations, or both.\n",
        "\n",
        "It has taken us a lot of steps and several examples to get here. We are now ready for a more formal definition of the central limit theorem."
      ]
    },
    {
      "cell_type": "markdown",
      "metadata": {
        "id": "_0isqFbKvcDy"
      },
      "source": [
        "----\n",
        "### 11. Define the Central Limit Theorem\n",
        "The central limit theorem says that sampling distributions have special properties.\n",
        "\n",
        "The CLT says that: (1) assuming two things, (2) if you do a series of steps, then (3) you will obtain an outcome. The outcome has implications for us.\n",
        "\n",
        "- The two **assumptions** are a random sample and a variable that is continuous.\n",
        "- The **steps** are to take repeated random samples of the population and calculate the mean of each of those samples. Construct a sampling distribution from the sample means.\n",
        "- The **outcome** is that the histogram of the sample means is normally distributed. We call this the sampling distribution of the mean. It will always be normally distributed under the CLT, as long as we have a sufficiently large sample size.\n",
        "- This frequency distribution, like all frequency distributions, has a standard deviation called the standard error of the mean."
      ]
    },
    {
      "cell_type": "markdown",
      "metadata": {
        "id": "4s9UQVvHvcDz"
      },
      "source": [
        "----\n",
        "### 12. Explain Standard Error\n",
        "\n",
        "Sampling distributions have a mean and standard deviation, just like any other distribution we have seen. However, the standard deviation of a sampling distribution has a special name: the standard error.\n",
        "\n",
        "Standard error is calculated using this formula: $\\sigma_{\\bar{X}}=\\frac{\\sigma}{\\sqrt{n}}$\n",
        "\n",
        "In words: divide the standard deviation of the population by the square root of the sample size.\n",
        "\n",
        "Because standard error is a fancy term for standard deviation of the sampling distribution, we can determine standard error two different ways. We can compute the standard error using the formula, or we can calculate the standard deviation of our sampling distribution (you did this previously).\n",
        "\n",
        "First, so we have it handy, copy and paste the code to find the **standard deviation of the sampling distribution** from above:"
      ]
    },
    {
      "cell_type": "code",
      "execution_count": null,
      "metadata": {
        "id": "djxCSIB_vcDz"
      },
      "outputs": [],
      "source": [
        "#@title Sampling distribution standard deviation\n",
        "import numpy as np # import library\n",
        "# Add your code here to display the population standard deviation!\n",
        "\n"
      ]
    },
    {
      "cell_type": "markdown",
      "metadata": {
        "id": "JKrUbpJyvcDz"
      },
      "source": [
        "The second way to calculcate the standard error is using the formula:"
      ]
    },
    {
      "cell_type": "code",
      "execution_count": null,
      "metadata": {
        "id": "fAQA8MZpvcDz"
      },
      "outputs": [],
      "source": [
        "#@title Caclulate standard error\n",
        "import numpy as np # import library\n",
        "n = 5 # sample size\n",
        "se = np.std(data[\"X\"]) / np.sqrt(n)\n",
        "se"
      ]
    },
    {
      "cell_type": "markdown",
      "metadata": {
        "id": "I0X5jAi1vcD0"
      },
      "source": [
        "You should find that the two calculations were close. Why do we need the standard error formula if we could just find the standard deviation of the sampling distribution? Well, we typically do not work with the sampling distribution directly. We simply understand that it exists. Creating a sampling distribution requires the population distribution to be available to us, and reearchers often do not have population data available. Further, the central limit theorem specifies taking an _unlimited_ number of samples in order for the sampling distribution mean to equal the population mean. It also requires a sample size of $N\\ge30$ when the population is not normally distributed. We have violated that rule (we used a non-normal population distribution and we set our sample size as low as 5), but the numbers still came out pretty close.\n",
        "\n",
        "Notice that if we assume that the central limit theorem applies, we already know the shape, mean, and standard deviation of a sampling distribution without having to construct it.\n",
        "\n",
        "#### Discussion Questions\n",
        "\n",
        "1. What is the shape of a sampling distribution?\n",
        "2. What is the mean of a sampling distribution?\n",
        "3. What is the standard deviation of a sampling distribution called? How is it calculated?"
      ]
    },
    {
      "cell_type": "markdown",
      "metadata": {
        "id": "shNHFCl3vcD0"
      },
      "source": [
        "----\n",
        "## IV. What's Next\n",
        "\n",
        "Where this gets useful is using the sampling distribution to make statements about the probability of obtaining a single sample mean. In many research contexts, we work with a single sample distribution. We do not have access to the population distribution nor the sampling distribution. But, we can use the central limit theorem to imagine what the sampling distribution looks like (it is normal with its mean equal to the population mean and a standard error based on population standard deviation and sample size). Because the sampling distribution is made of sample means, it tells us about what we can expect if we take one single random sample from a population. \n",
        "\n",
        "#### Discussion questions\n",
        "\n",
        "1. What is the mode of a sampling distribution?\n",
        "2. What is the most common score in a sampling distribution?\n",
        "3. Whenever a researcher takes a single random sample and finds the mean, what is the most likely value of the mean?\n",
        "4. What is the aproximate probability of obtaining a sample mean higher than the population mean?\n",
        "4. What is the aproximate probability of obtaining a sample mean lower than the population mean?"
      ]
    },
    {
      "cell_type": "markdown",
      "metadata": {
        "id": "2-B0kQ7QvcD0"
      },
      "source": [
        "----\n",
        "## V. Summary\n",
        "\n",
        "To summarize, the central limit theorem allows us to say useful things for research:\n",
        "\n",
        "- A single random sample will have a mean that approximates the population mean. We can use samples in place of having to measure every member of the population.\n",
        "- Each time we take a random sample and calculate the mean, we are most likely to get the population mean.\n",
        "- Our sample means will vary. We can predict how much they vary by calculating the standard error.\n",
        "- It is possible to take a random sample and calculate the mean only to get a sample mean that is far away from the population mean, but this is unlikely to happen.\n",
        "- A larger sample size reduces the standard error of the mean. Larger sample sizes give us better estimates of the mean."
      ]
    },
    {
      "cell_type": "markdown",
      "metadata": {
        "id": "dvW93i_wvcD1"
      },
      "source": [
        "---\n",
        "## VI. All done, congrats! \n",
        "\n",
        "Today you've not only learned about sampling distributions and the central limit theorem, but you've also learned how to write some Python code using Google Colab. High five!\n",
        "\n",
        "<img src=\"https://live.staticflickr.com/3471/3904325807_8ab0190152_b.jpg\" alt=\"High-five!\" width=\"100\"/>\n",
        "\n",
        "[\"High-five!\"](https://live.staticflickr.com/3471/3904325807_8ab0190152_b.jpg) by Nick J Webb is licensed under CC BY 2.0"
      ]
    }
  ],
  "metadata": {
    "colab": {
      "collapsed_sections": [],
      "name": "Codebase-Module.ipynb",
      "private_outputs": true,
      "provenance": [],
      "toc_visible": true,
      "include_colab_link": true
    },
    "kernelspec": {
      "display_name": "Python 3",
      "name": "python3"
    },
    "language_info": {
      "name": "python"
    }
  },
  "nbformat": 4,
  "nbformat_minor": 0
}